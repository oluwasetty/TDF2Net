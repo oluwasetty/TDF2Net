{
 "cells": [
  {
   "cell_type": "code",
   "execution_count": 2,
   "id": "f459bc37-9609-41fe-b1ea-000bed4fbd58",
   "metadata": {
    "tags": []
   },
   "outputs": [
    {
     "name": "stderr",
     "output_type": "stream",
     "text": [
      "2023-02-02 21:30:29.300746: I tensorflow/core/platform/cpu_feature_guard.cc:193] This TensorFlow binary is optimized with oneAPI Deep Neural Network Library (oneDNN) to use the following CPU instructions in performance-critical operations:  AVX2 FMA\n",
      "To enable them in other operations, rebuild TensorFlow with the appropriate compiler flags.\n"
     ]
    }
   ],
   "source": [
    "import glob\n",
    "import os\n",
    "\n",
    "import cv2\n",
    "import matplotlib.pyplot as plt\n",
    "import numpy as np\n",
    "import seaborn as sns\n",
    "# from pretrained_models.inceptionv3net import InceptionV3Net\n",
    "# from pretrained_models.vgg16net import VGG16Net\n",
    "# from pretrained_models.xceptionnet import XceptionNet\n",
    "# from pretrained_models.resnet50net import ResNet50Net\n",
    "from pypackage.classifier import Classifier\n",
    "# from pypackage.preprocessor import Preprocessor\n",
    "# from pypackage.feature_extractor import FeatureExtractor\n",
    "import tensorflow as tf"
   ]
  },
  {
   "cell_type": "markdown",
   "id": "66e8188a-8b9b-4128-bc13-dd7b6901bce9",
   "metadata": {},
   "source": [
    "### Load Fused Feature"
   ]
  },
  {
   "cell_type": "code",
   "execution_count": 21,
   "id": "c269ff51-5915-4df2-a391-2e12dc41fad3",
   "metadata": {},
   "outputs": [],
   "source": [
    "train_ft = np.load(\"Extracted/fusedtrain.npy\")"
   ]
  },
  {
   "cell_type": "code",
   "execution_count": 22,
   "id": "887101dc-5d13-4950-b9b6-052319e0058f",
   "metadata": {},
   "outputs": [],
   "source": [
    "test_ft = np.load(\"Extracted/fusedtest.npy\")"
   ]
  },
  {
   "cell_type": "markdown",
   "id": "07c9760a-3162-4324-9d9b-8b7a9304fc43",
   "metadata": {},
   "source": [
    "### Load Labels"
   ]
  },
  {
   "cell_type": "code",
   "execution_count": 21,
   "id": "2a35fc7e-3e6f-4bf3-8826-66ca34b44021",
   "metadata": {},
   "outputs": [],
   "source": [
    "y_train = np.load(\"Extracted/train_labels.npy\")"
   ]
  },
  {
   "cell_type": "code",
   "execution_count": 21,
   "id": "e17e346a-ea8f-48a2-b6ec-a2c0bf52cf18",
   "metadata": {},
   "outputs": [],
   "source": [
    "test_labels = np.load(\"Extracted/test_labels.npy\")"
   ]
  },
  {
   "cell_type": "markdown",
   "id": "08e89b02-32fc-49ab-a7e8-24c5eba249fa",
   "metadata": {},
   "source": [
    "### Random Forest classifier"
   ]
  },
  {
   "cell_type": "code",
   "execution_count": 23,
   "id": "22f7faba-e7ff-4eea-a94f-d12cf870ee8a",
   "metadata": {
    "tags": []
   },
   "outputs": [
    {
     "name": "stdout",
     "output_type": "stream",
     "text": [
      "RF_Accuracy =  0.938977879481312 RF_Precision =  0.9411623334133072 RF_Fscore =  0.9380426704826692\n"
     ]
    }
   ],
   "source": [
    "# Prediction from Random Forest classifier\n",
    "pred_RF = Classifier.RF(train_ft, test_ft, y_train)\n",
    "\n",
    "# Inverse le transform to get original label back.\n",
    "pred_RF = le.inverse_transform(pred_RF)\n",
    "np.save(\"pred_RF\", pred_RF)\n",
    "\n",
    "# Print accuracy, precision, fscore\n",
    "from sklearn.metrics import accuracy_score, confusion_matrix, precision_score, f1_score, classification_report\n",
    "\n",
    "RF_Accuracy = accuracy_score(test_labels, pred_RF)\n",
    "RF_Precision = precision_score(test_labels, pred_RF, average='weighted')\n",
    "RF_Fscore = f1_score(test_labels, pred_RF, average='weighted')\n",
    "\n",
    "print(\"RF_Accuracy = \", RF_Accuracy, \"RF_Precision = \", RF_Precision, \"RF_Fscore = \", RF_Fscore)"
   ]
  },
  {
   "cell_type": "code",
   "execution_count": 24,
   "id": "844465cd-7cc6-4ae3-b421-f1ec27165c25",
   "metadata": {},
   "outputs": [
    {
     "name": "stdout",
     "output_type": "stream",
     "text": [
      "              precision    recall  f1-score   support\n",
      "\n",
      "      glioma       0.96      0.81      0.88      1200\n",
      "  meningioma       0.86      0.94      0.90      1224\n",
      "    no_tumor       0.99      1.00      0.99      1620\n",
      "   pituitary       0.94      0.98      0.96      1200\n",
      "\n",
      "    accuracy                           0.94      5244\n",
      "   macro avg       0.94      0.93      0.93      5244\n",
      "weighted avg       0.94      0.94      0.94      5244\n",
      "\n"
     ]
    }
   ],
   "source": [
    "print(classification_report(test_labels, pred_RF))"
   ]
  },
  {
   "cell_type": "code",
   "execution_count": 25,
   "id": "cda0aa77-9dbe-4f6f-8796-b0bee778e496",
   "metadata": {
    "tags": []
   },
   "outputs": [
    {
     "name": "stdout",
     "output_type": "stream",
     "text": [
      "[[ 970  173    3   54]\n",
      " [  37 1153   13   21]\n",
      " [   0    0 1620    0]\n",
      " [   3   10    6 1181]]\n"
     ]
    },
    {
     "data": {
      "text/plain": [
       "<AxesSubplot:>"
      ]
     },
     "execution_count": 25,
     "metadata": {},
     "output_type": "execute_result"
    },
    {
     "data": {
      "image/png": "[encoded data removed]",
      "text/plain": [
       "<Figure size 432x288 with 2 Axes>"
      ]
     },
     "metadata": {
      "needs_background": "light"
     },
     "output_type": "display_data"
    }
   ],
   "source": [
    "# Confusion Matrix - verify accuracy of each class\n",
    "cm = confusion_matrix(test_labels, pred_RF)\n",
    "print(cm)\n",
    "sns.heatmap(cm, annot=True)"
   ]
  },
  {
   "cell_type": "markdown",
   "id": "fc337907-7701-46ea-afa5-8cbefca0acce",
   "metadata": {
    "tags": []
   },
   "source": [
    "### Naive Bayes classifier"
   ]
  },
  {
   "cell_type": "code",
   "execution_count": 26,
   "id": "35f36730-6eec-498f-8345-309cf3358ec9",
   "metadata": {
    "tags": []
   },
   "outputs": [
    {
     "name": "stdout",
     "output_type": "stream",
     "text": [
      "NB_Accuracy =  0.6573226544622426 NB_Precision =  0.7056342988095363 NB_Fscore =  0.662301260259239\n"
     ]
    }
   ],
   "source": [
    "# Prediction from Naive Bayes classifier\n",
    "pred_NB = Classifier.NB(train_ft, test_ft, y_train)\n",
    "\n",
    "# Inverse le transform to get original label back.\n",
    "pred_NB = le.inverse_transform(pred_NB)\n",
    "np.save(\"pred_NB\", pred_NB)\n",
    "\n",
    "# Print accuracy, precision, fscore\n",
    "\n",
    "NB_Accuracy = accuracy_score(test_labels, pred_NB)\n",
    "NB_Precision = precision_score(test_labels, pred_NB, average='weighted')\n",
    "NB_Fscore = f1_score(test_labels, pred_NB, average='weighted')\n",
    "\n",
    "print(\"NB_Accuracy = \", NB_Accuracy, \"NB_Precision = \", NB_Precision, \"NB_Fscore = \", NB_Fscore)"
   ]
  },
  {
   "cell_type": "code",
   "execution_count": 27,
   "id": "068d2378-0e94-4a80-83da-da8813426a9b",
   "metadata": {},
   "outputs": [
    {
     "name": "stdout",
     "output_type": "stream",
     "text": [
      "              precision    recall  f1-score   support\n",
      "\n",
      "      glioma       0.49      0.82      0.62      1200\n",
      "  meningioma       0.64      0.48      0.55      1224\n",
      "    no_tumor       0.93      0.65      0.77      1620\n",
      "   pituitary       0.69      0.68      0.68      1200\n",
      "\n",
      "    accuracy                           0.66      5244\n",
      "   macro avg       0.69      0.66      0.65      5244\n",
      "weighted avg       0.71      0.66      0.66      5244\n",
      "\n"
     ]
    }
   ],
   "source": [
    "print(classification_report(test_labels, pred_NB))"
   ]
  },
  {
   "cell_type": "code",
   "execution_count": 28,
   "id": "962bb4cd-ae22-43f8-a0d9-d19dd6a55040",
   "metadata": {
    "tags": []
   },
   "outputs": [
    {
     "name": "stdout",
     "output_type": "stream",
     "text": [
      "[[ 985  103   26   86]\n",
      " [ 466  586   49  123]\n",
      " [ 230  173 1061  156]\n",
      " [ 317   59    9  815]]\n"
     ]
    },
    {
     "data": {
      "text/plain": [
       "<AxesSubplot:>"
      ]
     },
     "execution_count": 28,
     "metadata": {},
     "output_type": "execute_result"
    },
    {
     "data": {
      "image/png": "[encoded data removed]",
      "text/plain": [
       "<Figure size 432x288 with 2 Axes>"
      ]
     },
     "metadata": {
      "needs_background": "light"
     },
     "output_type": "display_data"
    }
   ],
   "source": [
    "# Confusion Matrix - verify accuracy of each class\n",
    "\n",
    "cm = confusion_matrix(test_labels, pred_NB)\n",
    "print(cm)\n",
    "sns.heatmap(cm, annot=True)"
   ]
  },
  {
   "cell_type": "markdown",
   "id": "7e9bcbe3-89c8-43ad-ab0c-11e6330bb6a5",
   "metadata": {},
   "source": [
    "### Logistic Regression classifier"
   ]
  },
  {
   "cell_type": "code",
   "execution_count": 29,
   "id": "0104733a-4b89-442e-9366-4b673340446f",
   "metadata": {
    "tags": []
   },
   "outputs": [
    {
     "name": "stderr",
     "output_type": "stream",
     "text": [
      "/Users/oluwasetty/.virtualenvs/dis_lpu/lib/python3.9/site-packages/sklearn/linear_model/_logistic.py:444: ConvergenceWarning: lbfgs failed to converge (status=1):\n",
      "STOP: TOTAL NO. of ITERATIONS REACHED LIMIT.\n",
      "\n",
      "Increase the number of iterations (max_iter) or scale the data as shown in:\n",
      "    https://scikit-learn.org/stable/modules/preprocessing.html\n",
      "Please also refer to the documentation for alternative solver options:\n",
      "    https://scikit-learn.org/stable/modules/linear_model.html#logistic-regression\n",
      "  n_iter_i = _check_optimize_result(\n"
     ]
    },
    {
     "name": "stdout",
     "output_type": "stream",
     "text": [
      "LR_Accuracy =  0.776697177726926 LR_Precision =  0.7681409098558979 LR_Fscore =  0.7692255918688448\n"
     ]
    }
   ],
   "source": [
    "# Prediction from Logistic Regression classifier\n",
    "pred_LR = Classifier.LR(train_ft, test_ft, y_train)\n",
    "\n",
    "# Inverse le transform to get original label back.\n",
    "pred_LR = le.inverse_transform(pred_LR)\n",
    "np.save(\"pred_LR\", pred_LR)\n",
    "\n",
    "# Print accuracy, precision, fscore\n",
    "\n",
    "LR_Accuracy = accuracy_score(test_labels, pred_LR)\n",
    "LR_Precision = precision_score(test_labels, pred_LR, average='weighted')\n",
    "LR_Fscore = f1_score(test_labels, pred_LR, average='weighted')\n",
    "\n",
    "print(\"LR_Accuracy = \", LR_Accuracy, \"LR_Precision = \", LR_Precision, \"LR_Fscore = \", LR_Fscore)"
   ]
  },
  {
   "cell_type": "code",
   "execution_count": 30,
   "id": "d6ec64e1-2919-4e78-beec-76a983cc53e1",
   "metadata": {},
   "outputs": [
    {
     "name": "stdout",
     "output_type": "stream",
     "text": [
      "              precision    recall  f1-score   support\n",
      "\n",
      "      glioma       0.76      0.69      0.73      1200\n",
      "  meningioma       0.64      0.52      0.57      1224\n",
      "    no_tumor       0.86      0.92      0.89      1620\n",
      "   pituitary       0.79      0.92      0.85      1200\n",
      "\n",
      "    accuracy                           0.78      5244\n",
      "   macro avg       0.76      0.77      0.76      5244\n",
      "weighted avg       0.77      0.78      0.77      5244\n",
      "\n"
     ]
    }
   ],
   "source": [
    "print(classification_report(test_labels, pred_LR))"
   ]
  },
  {
   "cell_type": "code",
   "execution_count": 31,
   "id": "6c9700b6-fed1-45f6-8500-a5439f963f06",
   "metadata": {
    "tags": []
   },
   "outputs": [
    {
     "name": "stdout",
     "output_type": "stream",
     "text": [
      "[[ 833  260   12   95]\n",
      " [ 198  639  215  172]\n",
      " [  28   70 1493   29]\n",
      " [  37   36   19 1108]]\n"
     ]
    },
    {
     "data": {
      "text/plain": [
       "<AxesSubplot:>"
      ]
     },
     "execution_count": 31,
     "metadata": {},
     "output_type": "execute_result"
    },
    {
     "data": {
      "image/png": "[encoded data removed]",
      "text/plain": [
       "<Figure size 432x288 with 2 Axes>"
      ]
     },
     "metadata": {
      "needs_background": "light"
     },
     "output_type": "display_data"
    }
   ],
   "source": [
    "# Confusion Matrix - verify accuracy of each class\n",
    "\n",
    "cm = confusion_matrix(test_labels, pred_LR)\n",
    "print(cm)\n",
    "sns.heatmap(cm, annot=True)"
   ]
  },
  {
   "cell_type": "markdown",
   "id": "f58e614d-f53e-4513-999e-32a1fe2428eb",
   "metadata": {},
   "source": [
    "### K Nearest Neighbors classifier"
   ]
  },
  {
   "cell_type": "code",
   "execution_count": 32,
   "id": "65ef28e8-4d9d-4b25-8ac2-f1586bc5619a",
   "metadata": {
    "tags": []
   },
   "outputs": [
    {
     "name": "stdout",
     "output_type": "stream",
     "text": [
      "KNN_Accuracy =  0.9546147978642258 KNN_Precision =  0.9543988462802567 KNN_Fscore =  0.9542095933815046\n"
     ]
    }
   ],
   "source": [
    "# Prediction from K Nearest Neighbors classifier\n",
    "pred_KNN = Classifier.KNN(train_ft, test_ft, y_train)\n",
    "\n",
    "# Inverse le transform to get original label back.\n",
    "pred_KNN = le.inverse_transform(pred_KNN)\n",
    "np.save(\"pred_KNN\", pred_KNN)\n",
    "\n",
    "# Print accuracy, precision, fscore\n",
    "\n",
    "KNN_Accuracy = accuracy_score(test_labels, pred_KNN)\n",
    "KNN_Precision = precision_score(test_labels, pred_KNN, average='weighted')\n",
    "KNN_Fscore = f1_score(test_labels, pred_KNN, average='weighted')\n",
    "\n",
    "print(\"KNN_Accuracy = \", KNN_Accuracy, \"KNN_Precision = \", KNN_Precision, \"KNN_Fscore = \", KNN_Fscore)"
   ]
  },
  {
   "cell_type": "code",
   "execution_count": 33,
   "id": "acf873b2-890a-42a8-9992-2307e2f05a23",
   "metadata": {},
   "outputs": [
    {
     "name": "stdout",
     "output_type": "stream",
     "text": [
      "              precision    recall  f1-score   support\n",
      "\n",
      "      glioma       0.95      0.92      0.93      1200\n",
      "  meningioma       0.93      0.90      0.91      1224\n",
      "    no_tumor       0.98      0.99      0.99      1620\n",
      "   pituitary       0.95      1.00      0.97      1200\n",
      "\n",
      "    accuracy                           0.95      5244\n",
      "   macro avg       0.95      0.95      0.95      5244\n",
      "weighted avg       0.95      0.95      0.95      5244\n",
      "\n"
     ]
    }
   ],
   "source": [
    "print(classification_report(test_labels, pred_KNN))"
   ]
  },
  {
   "cell_type": "code",
   "execution_count": 34,
   "id": "363fff28-1754-4067-a0e3-835a149354aa",
   "metadata": {
    "tags": []
   },
   "outputs": [
    {
     "name": "stdout",
     "output_type": "stream",
     "text": [
      "[[1104   79    2   15]\n",
      " [  52 1096   25   51]\n",
      " [   6    3 1608    3]\n",
      " [   0    2    0 1198]]\n"
     ]
    },
    {
     "data": {
      "text/plain": [
       "<AxesSubplot:>"
      ]
     },
     "execution_count": 34,
     "metadata": {},
     "output_type": "execute_result"
    },
    {
     "data": {
      "image/png": "[encoded data removed]",
      "text/plain": [
       "<Figure size 432x288 with 2 Axes>"
      ]
     },
     "metadata": {
      "needs_background": "light"
     },
     "output_type": "display_data"
    }
   ],
   "source": [
    "# Confusion Matrix - verify accuracy of each class\n",
    "\n",
    "cm = confusion_matrix(test_labels, pred_KNN)\n",
    "print(cm)\n",
    "sns.heatmap(cm, annot=True)"
   ]
  },
  {
   "cell_type": "code",
   "execution_count": null,
   "id": "a0c2be46-93c9-4bb0-8a73-163440a36ee7",
   "metadata": {},
   "outputs": [],
   "source": [
    "np.save(\"pred_RF\", pred_RF)"
   ]
  },
  {
   "cell_type": "markdown",
   "id": "f0ed5aba-4a49-40be-a3e5-f9b4aead4144",
   "metadata": {},
   "source": [
    "### Decision Tree classifier"
   ]
  },
  {
   "cell_type": "code",
   "execution_count": null,
   "id": "e6125945-2b08-43eb-8ed2-cfc5014600dd",
   "metadata": {
    "tags": []
   },
   "outputs": [],
   "source": [
    "# Prediction from Decision Tree classifier\n",
    "pred_DT = Classifier.DT(train_ft, test_ft, y_train)\n",
    "\n",
    "# Inverse le transform to get original label back.\n",
    "pred_DT = le.inverse_transform(pred_DT)\n",
    "np.save(\"pred_DT\", pred_DT)\n",
    "\n",
    "# Print accuracy, precision, fscore\n",
    "\n",
    "DT_Accuracy = accuracy_score(test_labels, pred_DT)\n",
    "DT_Precision = precision_score(test_labels, pred_DT, average='weighted')\n",
    "DT_Fscore = f1_score(test_labels, pred_DT, average='weighted')\n",
    "\n",
    "print(\"DT_Accuracy = \", DT_Accuracy, \"DT_Precision = \", DT_Precision, \"DT_Fscore = \", DT_Fscore)"
   ]
  },
  {
   "cell_type": "code",
   "execution_count": null,
   "id": "63f90a74-40b2-4fd8-80ba-321e67b7cfd7",
   "metadata": {},
   "outputs": [],
   "source": [
    "print(classification_report(test_labels, pred_DT))"
   ]
  },
  {
   "cell_type": "code",
   "execution_count": null,
   "id": "7d42be89-c53b-4778-b79d-d402a2ca8c77",
   "metadata": {
    "tags": []
   },
   "outputs": [],
   "source": [
    "# Confusion Matrix - verify accuracy of each class\n",
    "\n",
    "cm = confusion_matrix(test_labels, pred_DT)\n",
    "print(cm)\n",
    "sns.heatmap(cm, annot=True)"
   ]
  },
  {
   "cell_type": "markdown",
   "id": "289682c8-e777-4989-aedc-7b7bba43cced",
   "metadata": {},
   "source": [
    "### Performance Metrics"
   ]
  },
  {
   "cell_type": "code",
   "execution_count": null,
   "id": "19734a63-8c6f-4b18-ac8b-4d0e7a1c9fa4",
   "metadata": {},
   "outputs": [],
   "source": [
    "from tabulate import tabulate"
   ]
  },
  {
   "cell_type": "code",
   "execution_count": null,
   "id": "644419c3-b643-48a1-8bd4-b5b795703328",
   "metadata": {},
   "outputs": [],
   "source": [
    "# create data\n",
    "data = [\n",
    "    [\"RF\", RF_Accuracy, RF_Precision, RF_Fscore],\n",
    "    [\"NB\", NB_Accuracy, NB_Precision, NB_Fscore],\n",
    "    [\"LR\", LR_Accuracy, LR_Precision, LR_Fscore],\n",
    "    [\"DT\", DT_Accuracy, DT_Precision, DT_Fscore],\n",
    "    [\"KNN\", KNN_Accuracy, KNN_Precision, KNN_Fscore],\n",
    "]\n",
    "\n",
    "# define header names\n",
    "col_names = [\"Classifier\", \"Accuracy\", \"Precision\", \"F1-score\"]\n",
    "\n",
    "# display table\n",
    "print(tabulate(data, headers=col_names, tablefmt=\"rounded_grid\"))"
   ]
  },
  {
   "cell_type": "markdown",
   "id": "4abe4d23-a2a0-4244-9fa9-c6bd4076b41c",
   "metadata": {},
   "source": [
    "### ROC Curve"
   ]
  },
  {
   "cell_type": "code",
   "execution_count": null,
   "id": "0de16446-5d1e-4124-aa42-373ac6de9811",
   "metadata": {},
   "outputs": [],
   "source": [
    "#set up plotting area\n",
    "from sklearn.metrics import roc_auc_score, roc_curve\n",
    "plt.figure(0).clf()\n",
    "\n",
    "#plot ROC curve\n",
    "fpr, tpr, _ = roc_curve(test_labels, pred_RF)\n",
    "auc = round(roc_auc_score(test_labels, pred_RF), 4)\n",
    "plt.plot(fpr,tpr,label=\"RF, AUC=\"+str(auc))\n",
    "\n",
    "fpr, tpr, _ = roc_curve(test_labels, pred_NB)\n",
    "auc = round(roc_auc_score(test_labels, pred_NB), 4)\n",
    "plt.plot(fpr,tpr,label=\"NB, AUC=\"+str(auc))\n",
    "\n",
    "fpr, tpr, _ = roc_curve(test_labels, pred_LR)\n",
    "auc = round(roc_auc_score(test_labels, pred_LR), 4)\n",
    "plt.plot(fpr,tpr,label=\"LR, AUC=\"+str(auc))\n",
    "\n",
    "fpr, tpr, _ = roc_curve(test_labels, pred_KNN)\n",
    "auc = round(roc_auc_score(test_labels, pred_KNN), 4)\n",
    "plt.plot(fpr,tpr,label=\"KNN, AUC=\"+str(auc))\n",
    "\n",
    "fpr, tpr, _ = roc_curve(test_labels, pred_DT)\n",
    "auc = round(roc_auc_score(test_labels, pred_DT), 4)\n",
    "plt.plot(fpr,tpr,label=\"DT, AUC=\"+str(auc))\n",
    "\n",
    "#add legend\n",
    "plt.legend()"
   ]
  },
  {
   "cell_type": "code",
   "execution_count": null,
   "id": "b3245c72-f2a1-47e1-87e2-2090b4001592",
   "metadata": {},
   "outputs": [],
   "source": []
  }
 ],
 "metadata": {
  "kernelspec": {
   "display_name": "Python 3 (ipykernel)",
   "language": "python",
   "name": "python3"
  },
  "language_info": {
   "codemirror_mode": {
    "name": "ipython",
    "version": 3
   },
   "file_extension": ".py",
   "mimetype": "text/x-python",
   "name": "python",
   "nbconvert_exporter": "python",
   "pygments_lexer": "ipython3",
   "version": "3.9.15"
  }
 },
 "nbformat": 4,
 "nbformat_minor": 5
}
