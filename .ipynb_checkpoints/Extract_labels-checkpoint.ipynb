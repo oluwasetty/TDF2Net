{
 "cells": [
  {
   "cell_type": "code",
   "execution_count": 1,
   "id": "43648497-025a-4b0e-9735-480140e3e467",
   "metadata": {
    "tags": []
   },
   "outputs": [],
   "source": [
    "# !pip install opencv-python\n",
    "# !pip install glob2\n",
    "# !pip install seaborn\n",
    "# !pip install opencv-contrib-python-headless\n",
    "# !pip install scikit-image\n",
    "# !pip install scikit-learn\n",
    "# !pip install tabulate"
   ]
  },
  {
   "cell_type": "code",
   "execution_count": 2,
   "id": "f459bc37-9609-41fe-b1ea-000bed4fbd58",
   "metadata": {
    "tags": []
   },
   "outputs": [
    {
     "ename": "ModuleNotFoundError",
     "evalue": "No module named 'pypackage'",
     "output_type": "error",
     "traceback": [
      "\u001b[0;31m---------------------------------------------------------------------------\u001b[0m",
      "\u001b[0;31mModuleNotFoundError\u001b[0m                       Traceback (most recent call last)",
      "\u001b[0;32m/var/folders/rc/pmtydq2n4cnf4g_j8c6d657m0000gn/T/ipykernel_31134/543872139.py\u001b[0m in \u001b[0;36m<cell line: 8>\u001b[0;34m()\u001b[0m\n\u001b[1;32m      6\u001b[0m \u001b[0;32mimport\u001b[0m \u001b[0mnumpy\u001b[0m \u001b[0;32mas\u001b[0m \u001b[0mnp\u001b[0m\u001b[0;34m\u001b[0m\u001b[0;34m\u001b[0m\u001b[0m\n\u001b[1;32m      7\u001b[0m \u001b[0;32mimport\u001b[0m \u001b[0mseaborn\u001b[0m \u001b[0;32mas\u001b[0m \u001b[0msns\u001b[0m\u001b[0;34m\u001b[0m\u001b[0;34m\u001b[0m\u001b[0m\n\u001b[0;32m----> 8\u001b[0;31m \u001b[0;32mfrom\u001b[0m \u001b[0mpypackage\u001b[0m\u001b[0;34m.\u001b[0m\u001b[0mclassifier\u001b[0m \u001b[0;32mimport\u001b[0m \u001b[0mClassifier\u001b[0m\u001b[0;34m\u001b[0m\u001b[0;34m\u001b[0m\u001b[0m\n\u001b[0m",
      "\u001b[0;31mModuleNotFoundError\u001b[0m: No module named 'pypackage'"
     ]
    }
   ],
   "source": [
    "import glob\n",
    "import os\n",
    "\n",
    "import cv2\n",
    "import matplotlib.pyplot as plt\n",
    "import numpy as np\n",
    "import seaborn as sns\n",
    "from pypackage.classifier import Classifier"
   ]
  },
  {
   "cell_type": "markdown",
   "id": "def5c8c0-c091-4266-b80a-77dd92babadb",
   "metadata": {},
   "source": [
    "### Load and Resize data"
   ]
  },
  {
   "cell_type": "code",
   "execution_count": null,
   "id": "32e8c9ab-028e-49f1-945b-137907fd207c",
   "metadata": {
    "tags": []
   },
   "outputs": [],
   "source": [
    "# Capture training data and labels into respective lists\n",
    "train_labels = []\n",
    "\n",
    "for directory_path in glob.glob(\"../datasets/Training/*\"):\n",
    "    label = directory_path.split(\"/\")[-1]\n",
    "    for img_path in glob.glob(os.path.join(directory_path, \"*.jpg\")):\n",
    "        train_labels.append(label)\n",
    "\n",
    "# Convert lists to arrays\n",
    "train_labels = np.array(train_labels)"
   ]
  },
  {
   "cell_type": "code",
   "execution_count": null,
   "id": "0dacc18f-e19d-4881-953d-203aa1c3db77",
   "metadata": {
    "tags": []
   },
   "outputs": [],
   "source": [
    "# Capture test/validation data and labels into respective lists\n",
    "test_labels = []\n",
    "\n",
    "for directory_path in glob.glob(\"../datasets/Testing/*\"):\n",
    "    label = directory_path.split(\"/\")[-1]\n",
    "    for img_path in glob.glob(os.path.join(directory_path, \"*.jpg\")):\n",
    "        test_labels.append(label)\n",
    "        \n",
    "# Convert lists to arrays\n",
    "# test_images = np.array(test_images)\n",
    "test_labels = np.array(test_labels)"
   ]
  },
  {
   "cell_type": "markdown",
   "id": "bc0b9036-5898-4598-abc3-7c41798f307b",
   "metadata": {},
   "source": [
    "### Data Augmentation"
   ]
  },
  {
   "cell_type": "markdown",
   "id": "e0b7c220-8946-442d-9372-0125653b7a45",
   "metadata": {},
   "source": [
    "#### Train dataset"
   ]
  },
  {
   "cell_type": "code",
   "execution_count": null,
   "id": "75a6ac5c-75b0-4220-8b17-e0adce3a7ef2",
   "metadata": {},
   "outputs": [],
   "source": [
    "# flip left-right direction\n",
    "da_train_labels = np.append( train_labels, [ x for x in train_labels] )\n",
    "\n",
    "# flip up-down direction\n",
    "da_train_labels = np.append( da_train_labels, [ x for x in train_labels] )\n",
    "\n",
    "# add salt and pepper noise\n",
    "da_train_labels = np.append( da_train_labels, [ x for x in train_labels] )"
   ]
  },
  {
   "cell_type": "markdown",
   "id": "6d755ed4-6f84-44d0-bbcc-43b4e7362079",
   "metadata": {},
   "source": [
    "#### Test dataset"
   ]
  },
  {
   "cell_type": "code",
   "execution_count": null,
   "id": "243867c8-0564-4d41-8472-bef783c18418",
   "metadata": {},
   "outputs": [],
   "source": [
    "# flip left-right direction\n",
    "da_test_labels = np.append( test_labels, [ x for x in test_labels] )\n",
    "\n",
    "# flip up-down direction\n",
    "da_test_labels = np.append( da_test_labels, [ x for x in test_labels] )\n",
    "\n",
    "# add salt and pepper noise\n",
    "da_test_labels = np.append( da_test_labels, [ x for x in test_labels] )"
   ]
  },
  {
   "cell_type": "markdown",
   "id": "56465d7a-8287-46d9-83a0-ae80b9546092",
   "metadata": {},
   "source": [
    "### Encode labels"
   ]
  },
  {
   "cell_type": "code",
   "execution_count": null,
   "id": "3b74a533-7e9d-4dbc-81ad-c713f56e71a9",
   "metadata": {},
   "outputs": [],
   "source": [
    "# Encode labels from text to integers.\n",
    "from sklearn import preprocessing\n",
    "\n",
    "le = preprocessing.LabelEncoder()\n",
    "le.fit(da_test_labels)\n",
    "test_labels_encoded = le.transform(da_test_labels)\n",
    "le.fit(da_train_labels)\n",
    "train_labels_encoded = le.transform(da_train_labels)"
   ]
  },
  {
   "cell_type": "code",
   "execution_count": null,
   "id": "a463fc20-d986-4876-893f-b4fcb4d14efc",
   "metadata": {},
   "outputs": [],
   "source": [
    "# Split data into test and train datasets (already split but assigning to meaningful convention)\n",
    "y_train, y_test = (\n",
    "    train_labels_encoded,\n",
    "    test_labels_encoded,\n",
    ")"
   ]
  },
  {
   "cell_type": "code",
   "execution_count": null,
   "id": "d14457d8-14e1-495c-bea0-deed2ee53840",
   "metadata": {
    "tags": []
   },
   "outputs": [],
   "source": [
    "# One hot encode y values for neural network.\n",
    "from keras.utils import to_categorical\n",
    "\n",
    "y_train_one_hot = to_categorical(y_train)\n",
    "y_test_one_hot = to_categorical(y_test)"
   ]
  },
  {
   "cell_type": "code",
   "execution_count": null,
   "id": "2b87a8de-5ffe-4173-9e95-246c77a18193",
   "metadata": {},
   "outputs": [],
   "source": [
    "np.save(\"train_labels\", y_train)"
   ]
  },
  {
   "cell_type": "code",
   "execution_count": null,
   "id": "e3dafe27-f85a-4b13-bf3f-4d334e7b6641",
   "metadata": {},
   "outputs": [],
   "source": [
    "np.save(\"test_labels\", da_test_labels)"
   ]
  }
 ],
 "metadata": {
  "kernelspec": {
   "display_name": "Python 3 (ipykernel)",
   "language": "python",
   "name": "python3"
  },
  "language_info": {
   "codemirror_mode": {
    "name": "ipython",
    "version": 3
   },
   "file_extension": ".py",
   "mimetype": "text/x-python",
   "name": "python",
   "nbconvert_exporter": "python",
   "pygments_lexer": "ipython3",
   "version": "3.9.15"
  }
 },
 "nbformat": 4,
 "nbformat_minor": 5
}
