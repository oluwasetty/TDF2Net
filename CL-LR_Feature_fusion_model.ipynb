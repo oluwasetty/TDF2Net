{
 "cells": [
  {
   "cell_type": "code",
   "execution_count": 2,
   "id": "f459bc37-9609-41fe-b1ea-000bed4fbd58",
   "metadata": {
    "tags": []
   },
   "outputs": [
    {
     "name": "stderr",
     "output_type": "stream",
     "text": [
      "2023-02-02 21:30:29.300746: I tensorflow/core/platform/cpu_feature_guard.cc:193] This TensorFlow binary is optimized with oneAPI Deep Neural Network Library (oneDNN) to use the following CPU instructions in performance-critical operations:  AVX2 FMA\n",
      "To enable them in other operations, rebuild TensorFlow with the appropriate compiler flags.\n"
     ]
    }
   ],
   "source": [
    "import glob\n",
    "import os\n",
    "\n",
    "import cv2\n",
    "import matplotlib.pyplot as plt\n",
    "import numpy as np\n",
    "import seaborn as sns\n",
    "# from pretrained_models.inceptionv3net import InceptionV3Net\n",
    "# from pretrained_models.vgg16net import VGG16Net\n",
    "# from pretrained_models.xceptionnet import XceptionNet\n",
    "# from pretrained_models.resnet50net import ResNet50Net\n",
    "from pypackage.classifier import Classifier\n",
    "# from pypackage.preprocessor import Preprocessor\n",
    "# from pypackage.feature_extractor import FeatureExtractor\n",
    "import tensorflow as tf"
   ]
  },
  {
   "cell_type": "markdown",
   "id": "66e8188a-8b9b-4128-bc13-dd7b6901bce9",
   "metadata": {},
   "source": [
    "### Load Fused Feature"
   ]
  },
  {
   "cell_type": "code",
   "execution_count": 21,
   "id": "c269ff51-5915-4df2-a391-2e12dc41fad3",
   "metadata": {},
   "outputs": [],
   "source": [
    "train_ft = np.load(\"Extracted/fusedtrain.npy\")"
   ]
  },
  {
   "cell_type": "code",
   "execution_count": 22,
   "id": "887101dc-5d13-4950-b9b6-052319e0058f",
   "metadata": {},
   "outputs": [],
   "source": [
    "test_ft = np.load(\"Extracted/fusedtest.npy\")"
   ]
  },
  {
   "cell_type": "markdown",
   "id": "07c9760a-3162-4324-9d9b-8b7a9304fc43",
   "metadata": {},
   "source": [
    "### Load Labels"
   ]
  },
  {
   "cell_type": "code",
   "execution_count": 21,
   "id": "2a35fc7e-3e6f-4bf3-8826-66ca34b44021",
   "metadata": {},
   "outputs": [],
   "source": [
    "y_train = np.load(\"Extracted/train_labels.npy\")"
   ]
  },
  {
   "cell_type": "code",
   "execution_count": 21,
   "id": "e17e346a-ea8f-48a2-b6ec-a2c0bf52cf18",
   "metadata": {},
   "outputs": [],
   "source": [
    "test_labels = np.load(\"Extracted/test_labels.npy\")"
   ]
  },
  {
   "cell_type": "markdown",
   "id": "7e9bcbe3-89c8-43ad-ab0c-11e6330bb6a5",
   "metadata": {},
   "source": [
    "### Logistic Regression classifier"
   ]
  },
  {
   "cell_type": "code",
   "execution_count": null,
   "id": "7f9805f0-c6a3-40dc-bf39-8dbe0eb6d4dc",
   "metadata": {},
   "outputs": [],
   "source": [
    "from sklearn import preprocessing\n",
    "le = preprocessing.LabelEncoder()\n",
    "le.fit(test_labels)"
   ]
  },
  {
   "cell_type": "code",
   "execution_count": 29,
   "id": "0104733a-4b89-442e-9366-4b673340446f",
   "metadata": {
    "tags": []
   },
   "outputs": [
    {
     "name": "stderr",
     "output_type": "stream",
     "text": [
      "/Users/oluwasetty/.virtualenvs/dis_lpu/lib/python3.9/site-packages/sklearn/linear_model/_logistic.py:444: ConvergenceWarning: lbfgs failed to converge (status=1):\n",
      "STOP: TOTAL NO. of ITERATIONS REACHED LIMIT.\n",
      "\n",
      "Increase the number of iterations (max_iter) or scale the data as shown in:\n",
      "    https://scikit-learn.org/stable/modules/preprocessing.html\n",
      "Please also refer to the documentation for alternative solver options:\n",
      "    https://scikit-learn.org/stable/modules/linear_model.html#logistic-regression\n",
      "  n_iter_i = _check_optimize_result(\n"
     ]
    },
    {
     "name": "stdout",
     "output_type": "stream",
     "text": [
      "LR_Accuracy =  0.776697177726926 LR_Precision =  0.7681409098558979 LR_Fscore =  0.7692255918688448\n"
     ]
    }
   ],
   "source": [
    "# Prediction from Logistic Regression classifier\n",
    "pred_LR = Classifier.LR(train_ft, test_ft, y_train)\n",
    "\n",
    "# Inverse le transform to get original label back.\n",
    "pred_LR = le.inverse_transform(pred_LR)\n",
    "np.save(\"pred_LR\", pred_LR)\n",
    "\n",
    "# Print accuracy, precision, fscore\n",
    "\n",
    "LR_Accuracy = accuracy_score(test_labels, pred_LR)\n",
    "LR_Precision = precision_score(test_labels, pred_LR, average='weighted')\n",
    "LR_Fscore = f1_score(test_labels, pred_LR, average='weighted')\n",
    "\n",
    "print(\"LR_Accuracy = \", LR_Accuracy, \"LR_Precision = \", LR_Precision, \"LR_Fscore = \", LR_Fscore)"
   ]
  },
  {
   "cell_type": "code",
   "execution_count": 30,
   "id": "d6ec64e1-2919-4e78-beec-76a983cc53e1",
   "metadata": {},
   "outputs": [
    {
     "name": "stdout",
     "output_type": "stream",
     "text": [
      "              precision    recall  f1-score   support\n",
      "\n",
      "      glioma       0.76      0.69      0.73      1200\n",
      "  meningioma       0.64      0.52      0.57      1224\n",
      "    no_tumor       0.86      0.92      0.89      1620\n",
      "   pituitary       0.79      0.92      0.85      1200\n",
      "\n",
      "    accuracy                           0.78      5244\n",
      "   macro avg       0.76      0.77      0.76      5244\n",
      "weighted avg       0.77      0.78      0.77      5244\n",
      "\n"
     ]
    }
   ],
   "source": [
    "print(classification_report(test_labels, pred_LR))"
   ]
  },
  {
   "cell_type": "code",
   "execution_count": 31,
   "id": "6c9700b6-fed1-45f6-8500-a5439f963f06",
   "metadata": {
    "tags": []
   },
   "outputs": [
    {
     "name": "stdout",
     "output_type": "stream",
     "text": [
      "[[ 833  260   12   95]\n",
      " [ 198  639  215  172]\n",
      " [  28   70 1493   29]\n",
      " [  37   36   19 1108]]\n"
     ]
    },
    {
     "data": {
      "text/plain": [
       "<AxesSubplot:>"
      ]
     },
     "execution_count": 31,
     "metadata": {},
     "output_type": "execute_result"
    },
    {
     "data": {
      "image/png": "[encoded data removed]",
      "text/plain": [
       "<Figure size 432x288 with 2 Axes>"
      ]
     },
     "metadata": {
      "needs_background": "light"
     },
     "output_type": "display_data"
    }
   ],
   "source": [
    "# Confusion Matrix - verify accuracy of each class\n",
    "\n",
    "cm = confusion_matrix(test_labels, pred_LR)\n",
    "print(cm)\n",
    "sns.heatmap(cm, annot=True)"
   ]
  }
 ],
 "metadata": {
  "kernelspec": {
   "display_name": "Python 3 (ipykernel)",
   "language": "python",
   "name": "python3"
  },
  "language_info": {
   "codemirror_mode": {
    "name": "ipython",
    "version": 3
   },
   "file_extension": ".py",
   "mimetype": "text/x-python",
   "name": "python",
   "nbconvert_exporter": "python",
   "pygments_lexer": "ipython3",
   "version": "3.9.15"
  }
 },
 "nbformat": 4,
 "nbformat_minor": 5
}
