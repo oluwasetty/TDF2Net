{
 "cells": [
  {
   "cell_type": "code",
   "execution_count": 1,
   "id": "f459bc37-9609-41fe-b1ea-000bed4fbd58",
   "metadata": {
    "tags": []
   },
   "outputs": [
    {
     "name": "stderr",
     "output_type": "stream",
     "text": [
      "2023-02-04 22:34:14.979915: I tensorflow/core/platform/cpu_feature_guard.cc:193] This TensorFlow binary is optimized with oneAPI Deep Neural Network Library (oneDNN) to use the following CPU instructions in performance-critical operations:  AVX2 FMA\n",
      "To enable them in other operations, rebuild TensorFlow with the appropriate compiler flags.\n"
     ]
    }
   ],
   "source": [
    "import glob\n",
    "import os\n",
    "\n",
    "import cv2\n",
    "import matplotlib.pyplot as plt\n",
    "import numpy as np\n",
    "import seaborn as sns\n",
    "# from pretrained_models.inceptionv3net import InceptionV3Net\n",
    "# from pretrained_models.vgg16net import VGG16Net\n",
    "# from pretrained_models.xceptionnet import XceptionNet\n",
    "# from pretrained_models.resnet50net import ResNet50Net\n",
    "from pypackage.classifier import Classifier\n",
    "# from pypackage.preprocessor import Preprocessor\n",
    "# from pypackage.feature_extractor import FeatureExtractor\n",
    "import tensorflow as tf"
   ]
  },
  {
   "cell_type": "markdown",
   "id": "66e8188a-8b9b-4128-bc13-dd7b6901bce9",
   "metadata": {},
   "source": [
    "### Load Predictions"
   ]
  },
  {
   "cell_type": "code",
   "execution_count": 2,
   "id": "c269ff51-5915-4df2-a391-2e12dc41fad3",
   "metadata": {},
   "outputs": [],
   "source": [
    "pred_RF = np.load(\"Extracted/pred_RF.npy\")"
   ]
  },
  {
   "cell_type": "code",
   "execution_count": 3,
   "id": "04ec250e-fcec-4d39-b7e6-c51f03a2c826",
   "metadata": {},
   "outputs": [],
   "source": [
    "# pred_NB = np.load(\"Extracted/pred_NB.npy\")"
   ]
  },
  {
   "cell_type": "code",
   "execution_count": 4,
   "id": "225ded15-42d2-48aa-8782-411b8bb90487",
   "metadata": {},
   "outputs": [],
   "source": [
    "# pred_LR = np.load(\"Extracted/pred_LR.npy\")"
   ]
  },
  {
   "cell_type": "code",
   "execution_count": 5,
   "id": "f7f585f3-19b9-44ef-8e1a-94a93b95eb68",
   "metadata": {},
   "outputs": [],
   "source": [
    "# pred_KNN = np.load(\"Extracted/pred_KNN.npy\")"
   ]
  },
  {
   "cell_type": "code",
   "execution_count": 6,
   "id": "d1342fc1-a84f-4185-8f19-b23fb11c04ae",
   "metadata": {},
   "outputs": [],
   "source": [
    "# pred_DT = np.load(\"Extracted/pred_DT.npy\")"
   ]
  },
  {
   "cell_type": "markdown",
   "id": "07c9760a-3162-4324-9d9b-8b7a9304fc43",
   "metadata": {},
   "source": [
    "### Load Labels"
   ]
  },
  {
   "cell_type": "code",
   "execution_count": 7,
   "id": "e17e346a-ea8f-48a2-b6ec-a2c0bf52cf18",
   "metadata": {},
   "outputs": [],
   "source": [
    "test_labels = np.load(\"Extracted/test_labels.npy\")"
   ]
  },
  {
   "cell_type": "markdown",
   "id": "4abe4d23-a2a0-4244-9fa9-c6bd4076b41c",
   "metadata": {},
   "source": [
    "### ROC Curve"
   ]
  },
  {
   "cell_type": "code",
   "execution_count": 11,
   "id": "0de16446-5d1e-4124-aa42-373ac6de9811",
   "metadata": {},
   "outputs": [
    {
     "ename": "ValueError",
     "evalue": "dtype='numeric' is not compatible with arrays of bytes/strings.Convert your data to numeric values explicitly instead.",
     "output_type": "error",
     "traceback": [
      "\u001b[0;31m---------------------------------------------------------------------------\u001b[0m",
      "\u001b[0;31mValueError\u001b[0m                                Traceback (most recent call last)",
      "\u001b[0;32m/var/folders/rc/pmtydq2n4cnf4g_j8c6d657m0000gn/T/ipykernel_41175/2939191567.py\u001b[0m in \u001b[0;36m<cell line: 7>\u001b[0;34m()\u001b[0m\n\u001b[1;32m      5\u001b[0m \u001b[0;31m#plot ROC curve\u001b[0m\u001b[0;34m\u001b[0m\u001b[0;34m\u001b[0m\u001b[0m\n\u001b[1;32m      6\u001b[0m \u001b[0;31m# fpr, tpr, _ = roc_curve(test_labels, pred_RF)\u001b[0m\u001b[0;34m\u001b[0m\u001b[0;34m\u001b[0m\u001b[0m\n\u001b[0;32m----> 7\u001b[0;31m \u001b[0mauc\u001b[0m \u001b[0;34m=\u001b[0m \u001b[0mround\u001b[0m\u001b[0;34m(\u001b[0m\u001b[0mroc_auc_score\u001b[0m\u001b[0;34m(\u001b[0m\u001b[0mtest_labels\u001b[0m\u001b[0;34m,\u001b[0m \u001b[0mpred_RF\u001b[0m\u001b[0;34m)\u001b[0m\u001b[0;34m,\u001b[0m \u001b[0;36m4\u001b[0m\u001b[0;34m)\u001b[0m\u001b[0;34m\u001b[0m\u001b[0;34m\u001b[0m\u001b[0m\n\u001b[0m\u001b[1;32m      8\u001b[0m \u001b[0mplt\u001b[0m\u001b[0;34m.\u001b[0m\u001b[0mplot\u001b[0m\u001b[0;34m(\u001b[0m\u001b[0mfpr\u001b[0m\u001b[0;34m,\u001b[0m\u001b[0mtpr\u001b[0m\u001b[0;34m,\u001b[0m\u001b[0mlabel\u001b[0m\u001b[0;34m=\u001b[0m\u001b[0;34m\"RF, AUC=\"\u001b[0m\u001b[0;34m+\u001b[0m\u001b[0mstr\u001b[0m\u001b[0;34m(\u001b[0m\u001b[0mauc\u001b[0m\u001b[0;34m)\u001b[0m\u001b[0;34m)\u001b[0m\u001b[0;34m\u001b[0m\u001b[0;34m\u001b[0m\u001b[0m\n\u001b[1;32m      9\u001b[0m \u001b[0;34m\u001b[0m\u001b[0m\n",
      "\u001b[0;32m~/.virtualenvs/dis_lpu/lib/python3.9/site-packages/sklearn/metrics/_ranking.py\u001b[0m in \u001b[0;36mroc_auc_score\u001b[0;34m(y_true, y_score, average, sample_weight, max_fpr, multi_class, labels)\u001b[0m\n\u001b[1;32m    546\u001b[0m     \u001b[0my_type\u001b[0m \u001b[0;34m=\u001b[0m \u001b[0mtype_of_target\u001b[0m\u001b[0;34m(\u001b[0m\u001b[0my_true\u001b[0m\u001b[0;34m,\u001b[0m \u001b[0minput_name\u001b[0m\u001b[0;34m=\u001b[0m\u001b[0;34m\"y_true\"\u001b[0m\u001b[0;34m)\u001b[0m\u001b[0;34m\u001b[0m\u001b[0;34m\u001b[0m\u001b[0m\n\u001b[1;32m    547\u001b[0m     \u001b[0my_true\u001b[0m \u001b[0;34m=\u001b[0m \u001b[0mcheck_array\u001b[0m\u001b[0;34m(\u001b[0m\u001b[0my_true\u001b[0m\u001b[0;34m,\u001b[0m \u001b[0mensure_2d\u001b[0m\u001b[0;34m=\u001b[0m\u001b[0;32mFalse\u001b[0m\u001b[0;34m,\u001b[0m \u001b[0mdtype\u001b[0m\u001b[0;34m=\u001b[0m\u001b[0;32mNone\u001b[0m\u001b[0;34m)\u001b[0m\u001b[0;34m\u001b[0m\u001b[0;34m\u001b[0m\u001b[0m\n\u001b[0;32m--> 548\u001b[0;31m     \u001b[0my_score\u001b[0m \u001b[0;34m=\u001b[0m \u001b[0mcheck_array\u001b[0m\u001b[0;34m(\u001b[0m\u001b[0my_score\u001b[0m\u001b[0;34m,\u001b[0m \u001b[0mensure_2d\u001b[0m\u001b[0;34m=\u001b[0m\u001b[0;32mFalse\u001b[0m\u001b[0;34m)\u001b[0m\u001b[0;34m\u001b[0m\u001b[0;34m\u001b[0m\u001b[0m\n\u001b[0m\u001b[1;32m    549\u001b[0m \u001b[0;34m\u001b[0m\u001b[0m\n\u001b[1;32m    550\u001b[0m     if y_type == \"multiclass\" or (\n",
      "\u001b[0;32m~/.virtualenvs/dis_lpu/lib/python3.9/site-packages/sklearn/utils/validation.py\u001b[0m in \u001b[0;36mcheck_array\u001b[0;34m(array, accept_sparse, accept_large_sparse, dtype, order, copy, force_all_finite, ensure_2d, allow_nd, ensure_min_samples, ensure_min_features, estimator, input_name)\u001b[0m\n\u001b[1;32m    885\u001b[0m \u001b[0;34m\u001b[0m\u001b[0m\n\u001b[1;32m    886\u001b[0m         \u001b[0;32mif\u001b[0m \u001b[0mdtype_numeric\u001b[0m \u001b[0;32mand\u001b[0m \u001b[0marray\u001b[0m\u001b[0;34m.\u001b[0m\u001b[0mdtype\u001b[0m\u001b[0;34m.\u001b[0m\u001b[0mkind\u001b[0m \u001b[0;32min\u001b[0m \u001b[0;34m\"USV\"\u001b[0m\u001b[0;34m:\u001b[0m\u001b[0;34m\u001b[0m\u001b[0;34m\u001b[0m\u001b[0m\n\u001b[0;32m--> 887\u001b[0;31m             raise ValueError(\n\u001b[0m\u001b[1;32m    888\u001b[0m                 \u001b[0;34m\"dtype='numeric' is not compatible with arrays of bytes/strings.\"\u001b[0m\u001b[0;34m\u001b[0m\u001b[0;34m\u001b[0m\u001b[0m\n\u001b[1;32m    889\u001b[0m                 \u001b[0;34m\"Convert your data to numeric values explicitly instead.\"\u001b[0m\u001b[0;34m\u001b[0m\u001b[0;34m\u001b[0m\u001b[0m\n",
      "\u001b[0;31mValueError\u001b[0m: dtype='numeric' is not compatible with arrays of bytes/strings.Convert your data to numeric values explicitly instead."
     ]
    },
    {
     "data": {
      "text/plain": [
       "<Figure size 432x288 with 0 Axes>"
      ]
     },
     "metadata": {},
     "output_type": "display_data"
    }
   ],
   "source": [
    "#set up plotting area\n",
    "from sklearn.metrics import roc_auc_score, roc_curve\n",
    "plt.figure(0).clf()\n",
    "\n",
    "#plot ROC curve\n",
    "# fpr, tpr, _ = roc_curve(test_labels, pred_RF)\n",
    "auc = round(roc_auc_score(test_labels, pred_RF), 4)\n",
    "plt.plot(fpr,tpr,label=\"RF, AUC=\"+str(auc))\n",
    "\n",
    "# fpr, tpr, _ = roc_curve(test_labels, pred_NB)\n",
    "# auc = round(roc_auc_score(test_labels, pred_NB), 4)\n",
    "# plt.plot(fpr,tpr,label=\"NB, AUC=\"+str(auc))\n",
    "\n",
    "# fpr, tpr, _ = roc_curve(test_labels, pred_LR)\n",
    "# auc = round(roc_auc_score(test_labels, pred_LR), 4)\n",
    "# plt.plot(fpr,tpr,label=\"LR, AUC=\"+str(auc))\n",
    "\n",
    "# fpr, tpr, _ = roc_curve(test_labels, pred_KNN)\n",
    "# auc = round(roc_auc_score(test_labels, pred_KNN), 4)\n",
    "# plt.plot(fpr,tpr,label=\"KNN, AUC=\"+str(auc))\n",
    "\n",
    "# fpr, tpr, _ = roc_curve(test_labels, pred_DT)\n",
    "# auc = round(roc_auc_score(test_labels, pred_DT), 4)\n",
    "# plt.plot(fpr,tpr,label=\"DT, AUC=\"+str(auc))\n",
    "\n",
    "#add legend\n",
    "plt.legend()"
   ]
  },
  {
   "cell_type": "code",
   "execution_count": null,
   "id": "2d9ea60a-de85-47e4-922f-2b32cd92a7b0",
   "metadata": {},
   "outputs": [],
   "source": []
  }
 ],
 "metadata": {
  "kernelspec": {
   "display_name": "Python 3 (ipykernel)",
   "language": "python",
   "name": "python3"
  },
  "language_info": {
   "codemirror_mode": {
    "name": "ipython",
    "version": 3
   },
   "file_extension": ".py",
   "mimetype": "text/x-python",
   "name": "python",
   "nbconvert_exporter": "python",
   "pygments_lexer": "ipython3",
   "version": "3.9.15"
  }
 },
 "nbformat": 4,
 "nbformat_minor": 5
}
