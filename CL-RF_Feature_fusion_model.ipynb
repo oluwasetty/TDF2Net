{
 "cells": [
  {
   "cell_type": "code",
   "execution_count": 1,
   "id": "f459bc37-9609-41fe-b1ea-000bed4fbd58",
   "metadata": {
    "tags": []
   },
   "outputs": [
    {
     "name": "stderr",
     "output_type": "stream",
     "text": [
      "2023-02-04 20:18:32.190638: I tensorflow/core/platform/cpu_feature_guard.cc:193] This TensorFlow binary is optimized with oneAPI Deep Neural Network Library (oneDNN) to use the following CPU instructions in performance-critical operations:  AVX2 FMA\n",
      "To enable them in other operations, rebuild TensorFlow with the appropriate compiler flags.\n"
     ]
    }
   ],
   "source": [
    "import glob\n",
    "import os\n",
    "\n",
    "import cv2\n",
    "import matplotlib.pyplot as plt\n",
    "import numpy as np\n",
    "import seaborn as sns\n",
    "# from pretrained_models.inceptionv3net import InceptionV3Net\n",
    "# from pretrained_models.vgg16net import VGG16Net\n",
    "# from pretrained_models.xceptionnet import XceptionNet\n",
    "# from pretrained_models.resnet50net import ResNet50Net\n",
    "from pypackage.classifier import Classifier\n",
    "# from pypackage.preprocessor import Preprocessor\n",
    "# from pypackage.feature_extractor import FeatureExtractor\n",
    "import tensorflow as tf"
   ]
  },
  {
   "cell_type": "markdown",
   "id": "66e8188a-8b9b-4128-bc13-dd7b6901bce9",
   "metadata": {},
   "source": [
    "### Load Fused Feature"
   ]
  },
  {
   "cell_type": "code",
   "execution_count": 2,
   "id": "c269ff51-5915-4df2-a391-2e12dc41fad3",
   "metadata": {},
   "outputs": [],
   "source": [
    "train_ft = np.load(\"Extracted/fusedtrain.npy\")"
   ]
  },
  {
   "cell_type": "code",
   "execution_count": 3,
   "id": "887101dc-5d13-4950-b9b6-052319e0058f",
   "metadata": {},
   "outputs": [],
   "source": [
    "test_ft = np.load(\"Extracted/fusedtest.npy\")"
   ]
  },
  {
   "cell_type": "markdown",
   "id": "07c9760a-3162-4324-9d9b-8b7a9304fc43",
   "metadata": {},
   "source": [
    "### Load Labels"
   ]
  },
  {
   "cell_type": "code",
   "execution_count": 4,
   "id": "2a35fc7e-3e6f-4bf3-8826-66ca34b44021",
   "metadata": {},
   "outputs": [],
   "source": [
    "y_train = np.load(\"Extracted/train_labels.npy\")"
   ]
  },
  {
   "cell_type": "code",
   "execution_count": 5,
   "id": "e17e346a-ea8f-48a2-b6ec-a2c0bf52cf18",
   "metadata": {},
   "outputs": [],
   "source": [
    "test_labels = np.load(\"Extracted/test_labels.npy\")"
   ]
  },
  {
   "cell_type": "markdown",
   "id": "08e89b02-32fc-49ab-a7e8-24c5eba249fa",
   "metadata": {},
   "source": [
    "### Random Forest classifier"
   ]
  },
  {
   "cell_type": "code",
   "execution_count": 9,
   "id": "8d9cb87b-fb6e-4a81-806e-4f7577931b9f",
   "metadata": {},
   "outputs": [
    {
     "data": {
      "text/html": [
       "<style>#sk-container-id-1 {color: black;background-color: white;}#sk-container-id-1 pre{padding: 0;}#sk-container-id-1 div.sk-toggleable {background-color: white;}#sk-container-id-1 label.sk-toggleable__label {cursor: pointer;display: block;width: 100%;margin-bottom: 0;padding: 0.3em;box-sizing: border-box;text-align: center;}#sk-container-id-1 label.sk-toggleable__label-arrow:before {content: \"▸\";float: left;margin-right: 0.25em;color: #696969;}#sk-container-id-1 label.sk-toggleable__label-arrow:hover:before {color: black;}#sk-container-id-1 div.sk-estimator:hover label.sk-toggleable__label-arrow:before {color: black;}#sk-container-id-1 div.sk-toggleable__content {max-height: 0;max-width: 0;overflow: hidden;text-align: left;background-color: #f0f8ff;}#sk-container-id-1 div.sk-toggleable__content pre {margin: 0.2em;color: black;border-radius: 0.25em;background-color: #f0f8ff;}#sk-container-id-1 input.sk-toggleable__control:checked~div.sk-toggleable__content {max-height: 200px;max-width: 100%;overflow: auto;}#sk-container-id-1 input.sk-toggleable__control:checked~label.sk-toggleable__label-arrow:before {content: \"▾\";}#sk-container-id-1 div.sk-estimator input.sk-toggleable__control:checked~label.sk-toggleable__label {background-color: #d4ebff;}#sk-container-id-1 div.sk-label input.sk-toggleable__control:checked~label.sk-toggleable__label {background-color: #d4ebff;}#sk-container-id-1 input.sk-hidden--visually {border: 0;clip: rect(1px 1px 1px 1px);clip: rect(1px, 1px, 1px, 1px);height: 1px;margin: -1px;overflow: hidden;padding: 0;position: absolute;width: 1px;}#sk-container-id-1 div.sk-estimator {font-family: monospace;background-color: #f0f8ff;border: 1px dotted black;border-radius: 0.25em;box-sizing: border-box;margin-bottom: 0.5em;}#sk-container-id-1 div.sk-estimator:hover {background-color: #d4ebff;}#sk-container-id-1 div.sk-parallel-item::after {content: \"\";width: 100%;border-bottom: 1px solid gray;flex-grow: 1;}#sk-container-id-1 div.sk-label:hover label.sk-toggleable__label {background-color: #d4ebff;}#sk-container-id-1 div.sk-serial::before {content: \"\";position: absolute;border-left: 1px solid gray;box-sizing: border-box;top: 0;bottom: 0;left: 50%;z-index: 0;}#sk-container-id-1 div.sk-serial {display: flex;flex-direction: column;align-items: center;background-color: white;padding-right: 0.2em;padding-left: 0.2em;position: relative;}#sk-container-id-1 div.sk-item {position: relative;z-index: 1;}#sk-container-id-1 div.sk-parallel {display: flex;align-items: stretch;justify-content: center;background-color: white;position: relative;}#sk-container-id-1 div.sk-item::before, #sk-container-id-1 div.sk-parallel-item::before {content: \"\";position: absolute;border-left: 1px solid gray;box-sizing: border-box;top: 0;bottom: 0;left: 50%;z-index: -1;}#sk-container-id-1 div.sk-parallel-item {display: flex;flex-direction: column;z-index: 1;position: relative;background-color: white;}#sk-container-id-1 div.sk-parallel-item:first-child::after {align-self: flex-end;width: 50%;}#sk-container-id-1 div.sk-parallel-item:last-child::after {align-self: flex-start;width: 50%;}#sk-container-id-1 div.sk-parallel-item:only-child::after {width: 0;}#sk-container-id-1 div.sk-dashed-wrapped {border: 1px dashed gray;margin: 0 0.4em 0.5em 0.4em;box-sizing: border-box;padding-bottom: 0.4em;background-color: white;}#sk-container-id-1 div.sk-label label {font-family: monospace;font-weight: bold;display: inline-block;line-height: 1.2em;}#sk-container-id-1 div.sk-label-container {text-align: center;}#sk-container-id-1 div.sk-container {/* jupyter's `normalize.less` sets `[hidden] { display: none; }` but bootstrap.min.css set `[hidden] { display: none !important; }` so we also need the `!important` here to be able to override the default hidden behavior on the sphinx rendered scikit-learn.org. See: https://github.com/scikit-learn/scikit-learn/issues/21755 */display: inline-block !important;position: relative;}#sk-container-id-1 div.sk-text-repr-fallback {display: none;}</style><div id=\"sk-container-id-1\" class=\"sk-top-container\"><div class=\"sk-text-repr-fallback\"><pre>LabelEncoder()</pre><b>In a Jupyter environment, please rerun this cell to show the HTML representation or trust the notebook. <br />On GitHub, the HTML representation is unable to render, please try loading this page with nbviewer.org.</b></div><div class=\"sk-container\" hidden><div class=\"sk-item\"><div class=\"sk-estimator sk-toggleable\"><input class=\"sk-toggleable__control sk-hidden--visually\" id=\"sk-estimator-id-1\" type=\"checkbox\" checked><label for=\"sk-estimator-id-1\" class=\"sk-toggleable__label sk-toggleable__label-arrow\">LabelEncoder</label><div class=\"sk-toggleable__content\"><pre>LabelEncoder()</pre></div></div></div></div></div>"
      ],
      "text/plain": [
       "LabelEncoder()"
      ]
     },
     "execution_count": 9,
     "metadata": {},
     "output_type": "execute_result"
    }
   ],
   "source": [
    "from sklearn import preprocessing\n",
    "le = preprocessing.LabelEncoder()\n",
    "le.fit(test_labels)"
   ]
  },
  {
   "cell_type": "code",
   "execution_count": 10,
   "id": "22f7faba-e7ff-4eea-a94f-d12cf870ee8a",
   "metadata": {
    "tags": []
   },
   "outputs": [
    {
     "name": "stdout",
     "output_type": "stream",
     "text": [
      "RF_Accuracy =  0.938977879481312 RF_Precision =  0.9411623334133072 RF_Fscore =  0.9380426704826692\n"
     ]
    }
   ],
   "source": [
    "# Prediction from Random Forest classifier\n",
    "# pred_RF = Classifier.RF(train_ft, test_ft, y_train)\n",
    "\n",
    "# Inverse le transform to get original label back.\n",
    "pred_RF = le.inverse_transform(pred_RF)\n",
    "np.save(\"pred_RF\", pred_RF)\n",
    "\n",
    "# Print accuracy, precision, fscore\n",
    "from sklearn.metrics import accuracy_score, confusion_matrix, precision_score, f1_score, classification_report\n",
    "\n",
    "RF_Accuracy = accuracy_score(test_labels, pred_RF)\n",
    "RF_Precision = precision_score(test_labels, pred_RF, average='weighted')\n",
    "RF_Fscore = f1_score(test_labels, pred_RF, average='weighted')\n",
    "\n",
    "print(\"RF_Accuracy = \", RF_Accuracy, \"RF_Precision = \", RF_Precision, \"RF_Fscore = \", RF_Fscore)"
   ]
  },
  {
   "cell_type": "code",
   "execution_count": 11,
   "id": "844465cd-7cc6-4ae3-b421-f1ec27165c25",
   "metadata": {},
   "outputs": [
    {
     "name": "stdout",
     "output_type": "stream",
     "text": [
      "              precision    recall  f1-score   support\n",
      "\n",
      "      glioma       0.96      0.81      0.88      1200\n",
      "  meningioma       0.86      0.94      0.90      1224\n",
      "    no_tumor       0.99      1.00      0.99      1620\n",
      "   pituitary       0.94      0.98      0.96      1200\n",
      "\n",
      "    accuracy                           0.94      5244\n",
      "   macro avg       0.94      0.93      0.93      5244\n",
      "weighted avg       0.94      0.94      0.94      5244\n",
      "\n"
     ]
    }
   ],
   "source": [
    "print(classification_report(test_labels, pred_RF))"
   ]
  },
  {
   "cell_type": "code",
   "execution_count": 12,
   "id": "cda0aa77-9dbe-4f6f-8796-b0bee778e496",
   "metadata": {
    "tags": []
   },
   "outputs": [
    {
     "name": "stdout",
     "output_type": "stream",
     "text": [
      "[[ 970  173    3   54]\n",
      " [  37 1153   13   21]\n",
      " [   0    0 1620    0]\n",
      " [   3   10    6 1181]]\n"
     ]
    },
    {
     "data": {
      "text/plain": [
       "<AxesSubplot:>"
      ]
     },
     "execution_count": 12,
     "metadata": {},
     "output_type": "execute_result"
    },
    {
     "data": {
      "image/png": "[encoded data removed]",
      "text/plain": [
       "<Figure size 432x288 with 2 Axes>"
      ]
     },
     "metadata": {
      "needs_background": "light"
     },
     "output_type": "display_data"
    }
   ],
   "source": [
    "# Confusion Matrix - verify accuracy of each class\n",
    "cm = confusion_matrix(test_labels, pred_RF)\n",
    "print(cm)\n",
    "sns.heatmap(cm, annot=True)"
   ]
  },
  {
   "cell_type": "code",
   "execution_count": null,
   "id": "bab51441-c20a-4eb8-a409-94035d2c15d7",
   "metadata": {},
   "outputs": [],
   "source": []
  }
 ],
 "metadata": {
  "kernelspec": {
   "display_name": "Python 3 (ipykernel)",
   "language": "python",
   "name": "python3"
  },
  "language_info": {
   "codemirror_mode": {
    "name": "ipython",
    "version": 3
   },
   "file_extension": ".py",
   "mimetype": "text/x-python",
   "name": "python",
   "nbconvert_exporter": "python",
   "pygments_lexer": "ipython3",
   "version": "3.9.15"
  }
 },
 "nbformat": 4,
 "nbformat_minor": 5
}
