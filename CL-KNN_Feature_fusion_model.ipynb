{
 "cells": [
  {
   "cell_type": "code",
   "execution_count": 2,
   "id": "f459bc37-9609-41fe-b1ea-000bed4fbd58",
   "metadata": {
    "tags": []
   },
   "outputs": [
    {
     "name": "stderr",
     "output_type": "stream",
     "text": [
      "2023-02-02 21:30:29.300746: I tensorflow/core/platform/cpu_feature_guard.cc:193] This TensorFlow binary is optimized with oneAPI Deep Neural Network Library (oneDNN) to use the following CPU instructions in performance-critical operations:  AVX2 FMA\n",
      "To enable them in other operations, rebuild TensorFlow with the appropriate compiler flags.\n"
     ]
    }
   ],
   "source": [
    "import glob\n",
    "import os\n",
    "\n",
    "import cv2\n",
    "import matplotlib.pyplot as plt\n",
    "import numpy as np\n",
    "import seaborn as sns\n",
    "# from pretrained_models.inceptionv3net import InceptionV3Net\n",
    "# from pretrained_models.vgg16net import VGG16Net\n",
    "# from pretrained_models.xceptionnet import XceptionNet\n",
    "# from pretrained_models.resnet50net import ResNet50Net\n",
    "from pypackage.classifier import Classifier\n",
    "# from pypackage.preprocessor import Preprocessor\n",
    "# from pypackage.feature_extractor import FeatureExtractor\n",
    "import tensorflow as tf"
   ]
  },
  {
   "cell_type": "markdown",
   "id": "66e8188a-8b9b-4128-bc13-dd7b6901bce9",
   "metadata": {},
   "source": [
    "### Load Fused Feature"
   ]
  },
  {
   "cell_type": "code",
   "execution_count": 21,
   "id": "c269ff51-5915-4df2-a391-2e12dc41fad3",
   "metadata": {},
   "outputs": [],
   "source": [
    "train_ft = np.load(\"Extracted/fusedtrain.npy\")"
   ]
  },
  {
   "cell_type": "code",
   "execution_count": 22,
   "id": "887101dc-5d13-4950-b9b6-052319e0058f",
   "metadata": {},
   "outputs": [],
   "source": [
    "test_ft = np.load(\"Extracted/fusedtest.npy\")"
   ]
  },
  {
   "cell_type": "markdown",
   "id": "07c9760a-3162-4324-9d9b-8b7a9304fc43",
   "metadata": {},
   "source": [
    "### Load Labels"
   ]
  },
  {
   "cell_type": "code",
   "execution_count": 21,
   "id": "2a35fc7e-3e6f-4bf3-8826-66ca34b44021",
   "metadata": {},
   "outputs": [],
   "source": [
    "y_train = np.load(\"Extracted/train_labels.npy\")"
   ]
  },
  {
   "cell_type": "code",
   "execution_count": 21,
   "id": "e17e346a-ea8f-48a2-b6ec-a2c0bf52cf18",
   "metadata": {},
   "outputs": [],
   "source": [
    "test_labels = np.load(\"Extracted/test_labels.npy\")"
   ]
  },
  {
   "cell_type": "markdown",
   "id": "f58e614d-f53e-4513-999e-32a1fe2428eb",
   "metadata": {},
   "source": [
    "### K Nearest Neighbors classifier"
   ]
  },
  {
   "cell_type": "code",
   "execution_count": null,
   "id": "b65a6f25-4b52-4408-8db5-d1ac31b985a1",
   "metadata": {},
   "outputs": [],
   "source": [
    "from sklearn import preprocessing\n",
    "le = preprocessing.LabelEncoder()\n",
    "le.fit(test_labels)"
   ]
  },
  {
   "cell_type": "code",
   "execution_count": 32,
   "id": "65ef28e8-4d9d-4b25-8ac2-f1586bc5619a",
   "metadata": {
    "tags": []
   },
   "outputs": [
    {
     "name": "stdout",
     "output_type": "stream",
     "text": [
      "KNN_Accuracy =  0.9546147978642258 KNN_Precision =  0.9543988462802567 KNN_Fscore =  0.9542095933815046\n"
     ]
    }
   ],
   "source": [
    "# Prediction from K Nearest Neighbors classifier\n",
    "pred_KNN = Classifier.KNN(train_ft, test_ft, y_train)\n",
    "\n",
    "# Inverse le transform to get original label back.\n",
    "pred_KNN = le.inverse_transform(pred_KNN)\n",
    "np.save(\"pred_KNN\", pred_KNN)\n",
    "\n",
    "# Print accuracy, precision, fscore\n",
    "\n",
    "KNN_Accuracy = accuracy_score(test_labels, pred_KNN)\n",
    "KNN_Precision = precision_score(test_labels, pred_KNN, average='weighted')\n",
    "KNN_Fscore = f1_score(test_labels, pred_KNN, average='weighted')\n",
    "\n",
    "print(\"KNN_Accuracy = \", KNN_Accuracy, \"KNN_Precision = \", KNN_Precision, \"KNN_Fscore = \", KNN_Fscore)"
   ]
  },
  {
   "cell_type": "code",
   "execution_count": 33,
   "id": "acf873b2-890a-42a8-9992-2307e2f05a23",
   "metadata": {},
   "outputs": [
    {
     "name": "stdout",
     "output_type": "stream",
     "text": [
      "              precision    recall  f1-score   support\n",
      "\n",
      "      glioma       0.95      0.92      0.93      1200\n",
      "  meningioma       0.93      0.90      0.91      1224\n",
      "    no_tumor       0.98      0.99      0.99      1620\n",
      "   pituitary       0.95      1.00      0.97      1200\n",
      "\n",
      "    accuracy                           0.95      5244\n",
      "   macro avg       0.95      0.95      0.95      5244\n",
      "weighted avg       0.95      0.95      0.95      5244\n",
      "\n"
     ]
    }
   ],
   "source": [
    "print(classification_report(test_labels, pred_KNN))"
   ]
  },
  {
   "cell_type": "code",
   "execution_count": 34,
   "id": "363fff28-1754-4067-a0e3-835a149354aa",
   "metadata": {
    "tags": []
   },
   "outputs": [
    {
     "name": "stdout",
     "output_type": "stream",
     "text": [
      "[[1104   79    2   15]\n",
      " [  52 1096   25   51]\n",
      " [   6    3 1608    3]\n",
      " [   0    2    0 1198]]\n"
     ]
    },
    {
     "data": {
      "text/plain": [
       "<AxesSubplot:>"
      ]
     },
     "execution_count": 34,
     "metadata": {},
     "output_type": "execute_result"
    },
    {
     "data": {
      "image/png": "[encoded data removed]",
      "text/plain": [
       "<Figure size 432x288 with 2 Axes>"
      ]
     },
     "metadata": {
      "needs_background": "light"
     },
     "output_type": "display_data"
    }
   ],
   "source": [
    "# Confusion Matrix - verify accuracy of each class\n",
    "\n",
    "cm = confusion_matrix(test_labels, pred_KNN)\n",
    "print(cm)\n",
    "sns.heatmap(cm, annot=True)"
   ]
  }
 ],
 "metadata": {
  "kernelspec": {
   "display_name": "Python 3 (ipykernel)",
   "language": "python",
   "name": "python3"
  },
  "language_info": {
   "codemirror_mode": {
    "name": "ipython",
    "version": 3
   },
   "file_extension": ".py",
   "mimetype": "text/x-python",
   "name": "python",
   "nbconvert_exporter": "python",
   "pygments_lexer": "ipython3",
   "version": "3.9.15"
  }
 },
 "nbformat": 4,
 "nbformat_minor": 5
}
