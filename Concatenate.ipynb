{
 "cells": [
  {
   "cell_type": "code",
   "execution_count": 1,
   "id": "b61b5c80-0899-4b94-a7a2-7b4373d2579d",
   "metadata": {},
   "outputs": [],
   "source": [
    "import numpy as np"
   ]
  },
  {
   "cell_type": "code",
   "execution_count": 2,
   "id": "a416e8ea-3194-4845-82a9-c99003a0fb21",
   "metadata": {},
   "outputs": [],
   "source": [
    "train_ft = np.concatenate([np.load(\"Extracted features/xceptiontrain.npy\"), np.load(\"Extracted features/inceptiontrain.npy\"), np.load(\"Extracted features/resnettrain.npy\"), np.load(\"Extracted features/vggtrain.npy\")], 1)"
   ]
  },
  {
   "cell_type": "code",
   "execution_count": 3,
   "id": "41a3d98a-ebaa-4f89-b0ad-51c802ba9fee",
   "metadata": {},
   "outputs": [],
   "source": [
    "np.save(\"fusedtrain\", train_ft)"
   ]
  },
  {
   "cell_type": "code",
   "execution_count": 4,
   "id": "a3f12b66-7360-4281-8610-d37e5ef9fd7b",
   "metadata": {},
   "outputs": [],
   "source": [
    "test_ft = np.concatenate([np.load(\"Extracted features/xceptiontest.npy\"), np.load(\"Extracted features/inceptiontest.npy\"), np.load(\"Extracted features/resnettest.npy\"), np.load(\"Extracted features/vggtest.npy\")], 1)"
   ]
  },
  {
   "cell_type": "code",
   "execution_count": 5,
   "id": "137064e3-3da0-4596-9099-a84245d8ff94",
   "metadata": {},
   "outputs": [],
   "source": [
    "np.save(\"fusedtest\", test_ft)"
   ]
  },
  {
   "cell_type": "code",
   "execution_count": 6,
   "id": "b9b0208e-0958-40fd-89ca-e923bfb95f6f",
   "metadata": {},
   "outputs": [
    {
     "data": {
      "text/plain": [
       "(22848, 276992)"
      ]
     },
     "execution_count": 6,
     "metadata": {},
     "output_type": "execute_result"
    }
   ],
   "source": [
    "train_ft.shape"
   ]
  },
  {
   "cell_type": "code",
   "execution_count": 7,
   "id": "f41357f6-bdf7-4b05-9947-0d3ee1079c0f",
   "metadata": {},
   "outputs": [
    {
     "data": {
      "text/plain": [
       "(5244, 276992)"
      ]
     },
     "execution_count": 7,
     "metadata": {},
     "output_type": "execute_result"
    }
   ],
   "source": [
    "test_ft.shape"
   ]
  },
  {
   "cell_type": "code",
   "execution_count": null,
   "id": "4dd869bd-c258-4211-8190-faaea10a3f54",
   "metadata": {},
   "outputs": [],
   "source": []
  }
 ],
 "metadata": {
  "kernelspec": {
   "display_name": "Python 3 (ipykernel)",
   "language": "python",
   "name": "python3"
  },
  "language_info": {
   "codemirror_mode": {
    "name": "ipython",
    "version": 3
   },
   "file_extension": ".py",
   "mimetype": "text/x-python",
   "name": "python",
   "nbconvert_exporter": "python",
   "pygments_lexer": "ipython3",
   "version": "3.9.15"
  }
 },
 "nbformat": 4,
 "nbformat_minor": 5
}
