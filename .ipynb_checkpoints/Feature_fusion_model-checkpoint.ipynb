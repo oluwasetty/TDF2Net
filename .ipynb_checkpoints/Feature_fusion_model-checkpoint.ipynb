{
 "cells": [
  {
   "cell_type": "code",
   "execution_count": 1,
   "id": "43648497-025a-4b0e-9735-480140e3e467",
   "metadata": {
    "tags": []
   },
   "outputs": [],
   "source": [
    "# !pip install opencv-python\n",
    "# !pip install glob2\n",
    "# !pip install seaborn\n",
    "# !pip install opencv-contrib-python-headless\n",
    "# !pip install scikit-image\n",
    "# !pip install scikit-learn\n",
    "# !pip install tabulate"
   ]
  },
  {
   "cell_type": "code",
   "execution_count": 2,
   "id": "f459bc37-9609-41fe-b1ea-000bed4fbd58",
   "metadata": {
    "tags": []
   },
   "outputs": [
    {
     "name": "stderr",
     "output_type": "stream",
     "text": [
      "2023-02-02 21:30:29.300746: I tensorflow/core/platform/cpu_feature_guard.cc:193] This TensorFlow binary is optimized with oneAPI Deep Neural Network Library (oneDNN) to use the following CPU instructions in performance-critical operations:  AVX2 FMA\n",
      "To enable them in other operations, rebuild TensorFlow with the appropriate compiler flags.\n"
     ]
    }
   ],
   "source": [
    "import glob\n",
    "import os\n",
    "\n",
    "import cv2\n",
    "import matplotlib.pyplot as plt\n",
    "import numpy as np\n",
    "import seaborn as sns\n",
    "# from pretrained_models.inceptionv3net import InceptionV3Net\n",
    "# from pretrained_models.vgg16net import VGG16Net\n",
    "# from pretrained_models.xceptionnet import XceptionNet\n",
    "# from pretrained_models.resnet50net import ResNet50Net\n",
    "from pypackage.classifier import Classifier\n",
    "# from pypackage.preprocessor import Preprocessor\n",
    "# from pypackage.feature_extractor import FeatureExtractor\n",
    "import tensorflow as tf"
   ]
  },
  {
   "cell_type": "markdown",
   "id": "def5c8c0-c091-4266-b80a-77dd92babadb",
   "metadata": {},
   "source": [
    "### Load and Resize data"
   ]
  },
  {
   "cell_type": "code",
   "execution_count": 3,
   "id": "5674b0a3-0597-41ab-a81c-d4990f7a2268",
   "metadata": {
    "tags": []
   },
   "outputs": [],
   "source": [
    "# Read input images and assign labels based on folder names\n",
    "# SIZE1 = 224  # Resize images\n",
    "# SIZE2 = 299  # Resize images"
   ]
  },
  {
   "cell_type": "code",
   "execution_count": 4,
   "id": "32e8c9ab-028e-49f1-945b-137907fd207c",
   "metadata": {
    "tags": []
   },
   "outputs": [],
   "source": [
    "# Capture training data and labels into respective lists\n",
    "# train_images = []\n",
    "train_labels = []\n",
    "\n",
    "for directory_path in glob.glob(\"../datasets/Training/*\"):\n",
    "    label = directory_path.split(\"/\")[-1]\n",
    "    for img_path in glob.glob(os.path.join(directory_path, \"*.jpg\")):\n",
    "        # print(img_path)\n",
    "        # img = cv2.imread(img_path, \n",
    "        #          cv2.IMREAD_COLOR)\n",
    "        # img = cv2.resize(img, (SIZE2, SIZE2))\n",
    "        # train_images.append(img)\n",
    "        train_labels.append(label)\n",
    "\n",
    "# Convert lists to arrays\n",
    "# train_images = np.array(train_images)\n",
    "train_labels = np.array(train_labels)"
   ]
  },
  {
   "cell_type": "code",
   "execution_count": 5,
   "id": "3ca7d967-8049-4c2e-8c21-e026603d1df3",
   "metadata": {},
   "outputs": [
    {
     "name": "stdout",
     "output_type": "stream",
     "text": [
      "['glioma' 'meningioma' 'no_tumor' 'pituitary']\n",
      "[1321 1339 1595 1457]\n"
     ]
    },
    {
     "data": {
      "image/png": "[encoded data removed]",
      "text/plain": [
       "<Figure size 432x288 with 1 Axes>"
      ]
     },
     "metadata": {
      "needs_background": "light"
     },
     "output_type": "display_data"
    }
   ],
   "source": [
    "classes, counts = np.unique(train_labels,return_counts=True)\n",
    "plt.bar(classes,counts,tick_label=list(classes))\n",
    "print(classes)\n",
    "print(counts)"
   ]
  },
  {
   "cell_type": "code",
   "execution_count": 6,
   "id": "0dacc18f-e19d-4881-953d-203aa1c3db77",
   "metadata": {
    "tags": []
   },
   "outputs": [],
   "source": [
    "# Capture test/validation data and labels into respective lists\n",
    "# test_images = []\n",
    "test_labels = []\n",
    "\n",
    "for directory_path in glob.glob(\"../datasets/Testing/*\"):\n",
    "    label = directory_path.split(\"/\")[-1]\n",
    "    for img_path in glob.glob(os.path.join(directory_path, \"*.jpg\")):\n",
    "        # img = cv2.imread(img_path, cv2.IMREAD_COLOR)\n",
    "        # img = cv2.resize(img, (SIZE2, SIZE2))\n",
    "        # img = cv2.cvtColor(img, cv2.COLOR_RGB2BGR)\n",
    "        # test_images.append(img)\n",
    "        test_labels.append(label)\n",
    "        \n",
    "# Convert lists to arrays\n",
    "# test_images = np.array(test_images)\n",
    "test_labels = np.array(test_labels)"
   ]
  },
  {
   "cell_type": "code",
   "execution_count": 7,
   "id": "faa17783-de54-4f86-bf4d-fe919a9431f5",
   "metadata": {},
   "outputs": [
    {
     "name": "stdout",
     "output_type": "stream",
     "text": [
      "['glioma' 'meningioma' 'no_tumor' 'pituitary']\n",
      "[300 306 405 300]\n"
     ]
    },
    {
     "data": {
      "image/png": "[encoded data removed]",
      "text/plain": [
       "<Figure size 432x288 with 1 Axes>"
      ]
     },
     "metadata": {
      "needs_background": "light"
     },
     "output_type": "display_data"
    }
   ],
   "source": [
    "classes, counts = np.unique(test_labels,return_counts=True)\n",
    "plt.bar(classes,counts,tick_label=list(classes))\n",
    "print(classes)\n",
    "print(counts)"
   ]
  },
  {
   "cell_type": "markdown",
   "id": "bc0b9036-5898-4598-abc3-7c41798f307b",
   "metadata": {},
   "source": [
    "### Data Augmentation"
   ]
  },
  {
   "cell_type": "markdown",
   "id": "e0b7c220-8946-442d-9372-0125653b7a45",
   "metadata": {},
   "source": [
    "#### Train dataset"
   ]
  },
  {
   "cell_type": "code",
   "execution_count": 8,
   "id": "75a6ac5c-75b0-4220-8b17-e0adce3a7ef2",
   "metadata": {},
   "outputs": [],
   "source": [
    "# flip left-right direction\n",
    "# da_train_images = np.append( train_images, [ np.fliplr(x) for x in train_images], axis=0 )\n",
    "da_train_labels = np.append( train_labels, [ x for x in train_labels] )\n",
    "\n",
    "# flip up-down direction\n",
    "# da_train_images = np.append( da_train_images, [ np.flipud(x) for x in train_images], axis=0 )\n",
    "da_train_labels = np.append( da_train_labels, [ x for x in train_labels] )\n",
    "\n",
    "# add salt and pepper noise\n",
    "# da_train_images = np.append( da_train_images, [ Preprocessor.addNoise(cv2.cvtColor(x, cv2.COLOR_BGR2GRAY)) for x in train_images], axis=0 )\n",
    "da_train_labels = np.append( da_train_labels, [ x for x in train_labels] )"
   ]
  },
  {
   "cell_type": "code",
   "execution_count": 9,
   "id": "a3e9facf-b398-4a24-8092-deca263000a4",
   "metadata": {},
   "outputs": [],
   "source": [
    "# plt.figure(figsize=(8, 8))\n",
    "# for i, idx in enumerate(np.random.randint(da_train_images.shape[0], size=9), start=1):\n",
    "#     plt.subplot(3, 3, i)\n",
    "#     plt.imshow( da_train_images[idx], cmap='gray')\n",
    "#     plt.title(str(da_train_labels[idx]))\n",
    "#     plt.axis('off')"
   ]
  },
  {
   "cell_type": "code",
   "execution_count": 10,
   "id": "1f68ff00-a678-4b11-a936-50adc7d1f1b5",
   "metadata": {},
   "outputs": [
    {
     "name": "stdout",
     "output_type": "stream",
     "text": [
      "['glioma' 'meningioma' 'no_tumor' 'pituitary']\n",
      "[5284 5356 6380 5828]\n"
     ]
    },
    {
     "data": {
      "image/png": "[encoded data removed]",
      "text/plain": [
       "<Figure size 432x288 with 1 Axes>"
      ]
     },
     "metadata": {
      "needs_background": "light"
     },
     "output_type": "display_data"
    }
   ],
   "source": [
    "classes, counts = np.unique(da_train_labels,return_counts=True)\n",
    "plt.bar(classes,counts,tick_label=list(classes),\n",
    "        width = 0.8, color = ['y'])\n",
    "print(classes)\n",
    "print(counts)"
   ]
  },
  {
   "cell_type": "code",
   "execution_count": 11,
   "id": "c4dbc3e7-67a0-43c9-b869-6b16b448e876",
   "metadata": {},
   "outputs": [
    {
     "data": {
      "image/png": "[encoded data removed]",
      "text/plain": [
       "<Figure size 432x288 with 1 Axes>"
      ]
     },
     "metadata": {},
     "output_type": "display_data"
    }
   ],
   "source": [
    "# color for each label\n",
    "colors = ['r', 'y', 'g', 'b']\n",
    "plt.pie(counts, labels = classes, labeldistance=0.45,\n",
    "        startangle=90, shadow = True, explode = (0, 0, 0.1, 0),\n",
    "        radius = 2, autopct = '%1.1f%%')\n",
    "  \n",
    "# plotting legend\n",
    "plt.legend(loc='center')\n",
    "  \n",
    "# showing the plot\n",
    "plt.show()"
   ]
  },
  {
   "cell_type": "markdown",
   "id": "6d755ed4-6f84-44d0-bbcc-43b4e7362079",
   "metadata": {},
   "source": [
    "#### Test dataset"
   ]
  },
  {
   "cell_type": "code",
   "execution_count": 12,
   "id": "243867c8-0564-4d41-8472-bef783c18418",
   "metadata": {},
   "outputs": [],
   "source": [
    "# flip left-right direction\n",
    "# da_test_images = np.append( test_images, [ np.fliplr(x) for x in test_images], axis=0 )\n",
    "da_test_labels = np.append( test_labels, [ x for x in test_labels] )\n",
    "\n",
    "# flip up-down direction\n",
    "# da_test_images = np.append( da_test_images, [ np.flipud(x) for x in test_images], axis=0 )\n",
    "da_test_labels = np.append( da_test_labels, [ x for x in test_labels] )\n",
    "\n",
    "# add salt and pepper noise\n",
    "# da_test_images = np.append( da_test_images, [ Preprocessor.addNoise(cv2.cvtColor(x, cv2.COLOR_BGR2GRAY)) for x in test_images], axis=0 )\n",
    "da_test_labels = np.append( da_test_labels, [ x for x in test_labels] )"
   ]
  },
  {
   "cell_type": "code",
   "execution_count": 13,
   "id": "30308fe2-ffd2-4d42-8116-bfa2590b90f9",
   "metadata": {},
   "outputs": [],
   "source": [
    "# plt.figure(figsize=(8, 8))\n",
    "# for i, idx in enumerate(np.random.randint(da_test_images.shape[0], size=9), start=1):\n",
    "#     plt.subplot(3, 3, i)\n",
    "#     plt.imshow( da_test_images[idx], cmap='gray')\n",
    "#     plt.title(str(da_test_labels[idx]))\n",
    "#     plt.axis('off')"
   ]
  },
  {
   "cell_type": "code",
   "execution_count": 14,
   "id": "f945dd05-124f-44b3-985b-a10e2fd0c13f",
   "metadata": {},
   "outputs": [
    {
     "name": "stdout",
     "output_type": "stream",
     "text": [
      "['glioma' 'meningioma' 'no_tumor' 'pituitary']\n",
      "[1200 1224 1620 1200]\n"
     ]
    },
    {
     "data": {
      "image/png": "[encoded data removed]",
      "text/plain": [
       "<Figure size 432x288 with 1 Axes>"
      ]
     },
     "metadata": {
      "needs_background": "light"
     },
     "output_type": "display_data"
    }
   ],
   "source": [
    "classes, counts = np.unique(da_test_labels,return_counts=True)\n",
    "plt.bar(classes,counts,tick_label=list(classes),\n",
    "        width = 0.8, color = ['y'])\n",
    "print(classes)\n",
    "print(counts)"
   ]
  },
  {
   "cell_type": "code",
   "execution_count": 15,
   "id": "133f5cba-168c-417f-89a3-5b5a0f5e01f7",
   "metadata": {},
   "outputs": [
    {
     "data": {
      "image/png": "[encoded data removed]",
      "text/plain": [
       "<Figure size 432x288 with 1 Axes>"
      ]
     },
     "metadata": {},
     "output_type": "display_data"
    }
   ],
   "source": [
    "# color for each label\n",
    "colors = ['r', 'y', 'g', 'b']\n",
    "plt.pie(counts, labels = classes, labeldistance=0.45,\n",
    "        startangle=90, shadow = True, explode = (0, 0, 0.1, 0),\n",
    "        radius = 2, autopct = '%1.1f%%')\n",
    "  \n",
    "# plotting legend\n",
    "plt.legend(loc='center')\n",
    "  \n",
    "# showing the plot\n",
    "plt.show()"
   ]
  },
  {
   "cell_type": "markdown",
   "id": "56465d7a-8287-46d9-83a0-ae80b9546092",
   "metadata": {},
   "source": [
    "### Encode labels"
   ]
  },
  {
   "cell_type": "code",
   "execution_count": 16,
   "id": "3b74a533-7e9d-4dbc-81ad-c713f56e71a9",
   "metadata": {},
   "outputs": [],
   "source": [
    "# Encode labels from text to integers.\n",
    "from sklearn import preprocessing\n",
    "\n",
    "le = preprocessing.LabelEncoder()\n",
    "le.fit(da_test_labels)\n",
    "test_labels_encoded = le.transform(da_test_labels)\n",
    "le.fit(da_train_labels)\n",
    "train_labels_encoded = le.transform(da_train_labels)"
   ]
  },
  {
   "cell_type": "code",
   "execution_count": 17,
   "id": "a463fc20-d986-4876-893f-b4fcb4d14efc",
   "metadata": {},
   "outputs": [],
   "source": [
    "# Split data into test and train datasets (already split but assigning to meaningful convention)\n",
    "# x_train, y_train, x_test, y_test = (\n",
    "#     da_train_images,\n",
    "#     train_labels_encoded,\n",
    "#     da_test_images,\n",
    "#     test_labels_encoded,\n",
    "# )\n",
    "y_train, y_test = (\n",
    "    train_labels_encoded,\n",
    "    test_labels_encoded,\n",
    ")"
   ]
  },
  {
   "cell_type": "code",
   "execution_count": 18,
   "id": "fb773206-60ba-4de9-89b9-c4e7659e1dc8",
   "metadata": {},
   "outputs": [],
   "source": [
    "# Normalize pixel values to between 0 and 1\n",
    "# x_train, x_test = x_train / 255.0, x_test / 255.0"
   ]
  },
  {
   "cell_type": "code",
   "execution_count": 19,
   "id": "d14457d8-14e1-495c-bea0-deed2ee53840",
   "metadata": {
    "tags": []
   },
   "outputs": [],
   "source": [
    "# One hot encode y values for neural network.\n",
    "from keras.utils import to_categorical\n",
    "\n",
    "y_train_one_hot = to_categorical(y_train)\n",
    "y_test_one_hot = to_categorical(y_test)"
   ]
  },
  {
   "cell_type": "markdown",
   "id": "66e8188a-8b9b-4128-bc13-dd7b6901bce9",
   "metadata": {},
   "source": [
    "### Load Fused Feature"
   ]
  },
  {
   "cell_type": "code",
   "execution_count": 21,
   "id": "c269ff51-5915-4df2-a391-2e12dc41fad3",
   "metadata": {},
   "outputs": [],
   "source": [
    "train_ft = np.load(\"Extracted features/fusedtrain.npy\")"
   ]
  },
  {
   "cell_type": "code",
   "execution_count": 22,
   "id": "887101dc-5d13-4950-b9b6-052319e0058f",
   "metadata": {},
   "outputs": [],
   "source": [
    "test_ft = np.load(\"Extracted features/fusedtest.npy\")"
   ]
  },
  {
   "cell_type": "markdown",
   "id": "08e89b02-32fc-49ab-a7e8-24c5eba249fa",
   "metadata": {},
   "source": [
    "### Random Forest classifier"
   ]
  },
  {
   "cell_type": "code",
   "execution_count": 23,
   "id": "22f7faba-e7ff-4eea-a94f-d12cf870ee8a",
   "metadata": {
    "tags": []
   },
   "outputs": [
    {
     "name": "stdout",
     "output_type": "stream",
     "text": [
      "RF_Accuracy =  0.938977879481312 RF_Precision =  0.9411623334133072 RF_Fscore =  0.9380426704826692\n"
     ]
    }
   ],
   "source": [
    "# Prediction from Random Forest classifier\n",
    "pred_RF = Classifier.RF(train_ft, test_ft, y_train)\n",
    "\n",
    "# Inverse le transform to get original label back.\n",
    "pred_RF = le.inverse_transform(pred_RF)\n",
    "\n",
    "# Print accuracy, precision, fscore\n",
    "from sklearn.metrics import accuracy_score, confusion_matrix, precision_score, f1_score, classification_report\n",
    "\n",
    "test_labels = da_test_labels\n",
    "RF_Accuracy = accuracy_score(test_labels, pred_RF)\n",
    "RF_Precision = precision_score(test_labels, pred_RF, average='weighted')\n",
    "RF_Fscore = f1_score(test_labels, pred_RF, average='weighted')\n",
    "\n",
    "print(\"RF_Accuracy = \", RF_Accuracy, \"RF_Precision = \", RF_Precision, \"RF_Fscore = \", RF_Fscore)"
   ]
  },
  {
   "cell_type": "code",
   "execution_count": 24,
   "id": "844465cd-7cc6-4ae3-b421-f1ec27165c25",
   "metadata": {},
   "outputs": [
    {
     "name": "stdout",
     "output_type": "stream",
     "text": [
      "              precision    recall  f1-score   support\n",
      "\n",
      "      glioma       0.96      0.81      0.88      1200\n",
      "  meningioma       0.86      0.94      0.90      1224\n",
      "    no_tumor       0.99      1.00      0.99      1620\n",
      "   pituitary       0.94      0.98      0.96      1200\n",
      "\n",
      "    accuracy                           0.94      5244\n",
      "   macro avg       0.94      0.93      0.93      5244\n",
      "weighted avg       0.94      0.94      0.94      5244\n",
      "\n"
     ]
    }
   ],
   "source": [
    "print(classification_report(test_labels, pred_RF))"
   ]
  },
  {
   "cell_type": "code",
   "execution_count": 25,
   "id": "cda0aa77-9dbe-4f6f-8796-b0bee778e496",
   "metadata": {
    "tags": []
   },
   "outputs": [
    {
     "name": "stdout",
     "output_type": "stream",
     "text": [
      "[[ 970  173    3   54]\n",
      " [  37 1153   13   21]\n",
      " [   0    0 1620    0]\n",
      " [   3   10    6 1181]]\n"
     ]
    },
    {
     "data": {
      "text/plain": [
       "<AxesSubplot:>"
      ]
     },
     "execution_count": 25,
     "metadata": {},
     "output_type": "execute_result"
    },
    {
     "data": {
      "image/png": "[encoded data removed]",
      "text/plain": [
       "<Figure size 432x288 with 2 Axes>"
      ]
     },
     "metadata": {
      "needs_background": "light"
     },
     "output_type": "display_data"
    }
   ],
   "source": [
    "# Confusion Matrix - verify accuracy of each class\n",
    "cm = confusion_matrix(test_labels, pred_RF)\n",
    "print(cm)\n",
    "sns.heatmap(cm, annot=True)"
   ]
  },
  {
   "cell_type": "markdown",
   "id": "fc337907-7701-46ea-afa5-8cbefca0acce",
   "metadata": {
    "tags": []
   },
   "source": [
    "### Naive Bayes classifier"
   ]
  },
  {
   "cell_type": "code",
   "execution_count": 26,
   "id": "35f36730-6eec-498f-8345-309cf3358ec9",
   "metadata": {
    "tags": []
   },
   "outputs": [
    {
     "name": "stdout",
     "output_type": "stream",
     "text": [
      "NB_Accuracy =  0.6573226544622426 NB_Precision =  0.7056342988095363 NB_Fscore =  0.662301260259239\n"
     ]
    }
   ],
   "source": [
    "# Prediction from Naive Bayes classifier\n",
    "pred_NB = Classifier.NB(train_ft, test_ft, y_train)\n",
    "\n",
    "# Inverse le transform to get original label back.\n",
    "pred_NB = le.inverse_transform(pred_NB)\n",
    "\n",
    "# Print accuracy, precision, fscore\n",
    "\n",
    "NB_Accuracy = accuracy_score(test_labels, pred_NB)\n",
    "NB_Precision = precision_score(test_labels, pred_NB, average='weighted')\n",
    "NB_Fscore = f1_score(test_labels, pred_NB, average='weighted')\n",
    "\n",
    "print(\"NB_Accuracy = \", NB_Accuracy, \"NB_Precision = \", NB_Precision, \"NB_Fscore = \", NB_Fscore)"
   ]
  },
  {
   "cell_type": "code",
   "execution_count": 27,
   "id": "068d2378-0e94-4a80-83da-da8813426a9b",
   "metadata": {},
   "outputs": [
    {
     "name": "stdout",
     "output_type": "stream",
     "text": [
      "              precision    recall  f1-score   support\n",
      "\n",
      "      glioma       0.49      0.82      0.62      1200\n",
      "  meningioma       0.64      0.48      0.55      1224\n",
      "    no_tumor       0.93      0.65      0.77      1620\n",
      "   pituitary       0.69      0.68      0.68      1200\n",
      "\n",
      "    accuracy                           0.66      5244\n",
      "   macro avg       0.69      0.66      0.65      5244\n",
      "weighted avg       0.71      0.66      0.66      5244\n",
      "\n"
     ]
    }
   ],
   "source": [
    "print(classification_report(test_labels, pred_NB))"
   ]
  },
  {
   "cell_type": "code",
   "execution_count": 28,
   "id": "962bb4cd-ae22-43f8-a0d9-d19dd6a55040",
   "metadata": {
    "tags": []
   },
   "outputs": [
    {
     "name": "stdout",
     "output_type": "stream",
     "text": [
      "[[ 985  103   26   86]\n",
      " [ 466  586   49  123]\n",
      " [ 230  173 1061  156]\n",
      " [ 317   59    9  815]]\n"
     ]
    },
    {
     "data": {
      "text/plain": [
       "<AxesSubplot:>"
      ]
     },
     "execution_count": 28,
     "metadata": {},
     "output_type": "execute_result"
    },
    {
     "data": {
      "image/png": "[encoded data removed]",
      "text/plain": [
       "<Figure size 432x288 with 2 Axes>"
      ]
     },
     "metadata": {
      "needs_background": "light"
     },
     "output_type": "display_data"
    }
   ],
   "source": [
    "# Confusion Matrix - verify accuracy of each class\n",
    "\n",
    "cm = confusion_matrix(test_labels, pred_NB)\n",
    "print(cm)\n",
    "sns.heatmap(cm, annot=True)"
   ]
  },
  {
   "cell_type": "markdown",
   "id": "7e9bcbe3-89c8-43ad-ab0c-11e6330bb6a5",
   "metadata": {},
   "source": [
    "### Logistic Regression classifier"
   ]
  },
  {
   "cell_type": "code",
   "execution_count": 29,
   "id": "0104733a-4b89-442e-9366-4b673340446f",
   "metadata": {
    "tags": []
   },
   "outputs": [
    {
     "name": "stderr",
     "output_type": "stream",
     "text": [
      "/Users/oluwasetty/.virtualenvs/dis_lpu/lib/python3.9/site-packages/sklearn/linear_model/_logistic.py:444: ConvergenceWarning: lbfgs failed to converge (status=1):\n",
      "STOP: TOTAL NO. of ITERATIONS REACHED LIMIT.\n",
      "\n",
      "Increase the number of iterations (max_iter) or scale the data as shown in:\n",
      "    https://scikit-learn.org/stable/modules/preprocessing.html\n",
      "Please also refer to the documentation for alternative solver options:\n",
      "    https://scikit-learn.org/stable/modules/linear_model.html#logistic-regression\n",
      "  n_iter_i = _check_optimize_result(\n"
     ]
    },
    {
     "name": "stdout",
     "output_type": "stream",
     "text": [
      "LR_Accuracy =  0.776697177726926 LR_Precision =  0.7681409098558979 LR_Fscore =  0.7692255918688448\n"
     ]
    }
   ],
   "source": [
    "# Prediction from Logistic Regression classifier\n",
    "pred_LR = Classifier.LR(train_ft, test_ft, y_train)\n",
    "\n",
    "# Inverse le transform to get original label back.\n",
    "pred_LR = le.inverse_transform(pred_LR)\n",
    "\n",
    "# Print accuracy, precision, fscore\n",
    "\n",
    "LR_Accuracy = accuracy_score(test_labels, pred_LR)\n",
    "LR_Precision = precision_score(test_labels, pred_LR, average='weighted')\n",
    "LR_Fscore = f1_score(test_labels, pred_LR, average='weighted')\n",
    "\n",
    "print(\"LR_Accuracy = \", LR_Accuracy, \"LR_Precision = \", LR_Precision, \"LR_Fscore = \", LR_Fscore)"
   ]
  },
  {
   "cell_type": "code",
   "execution_count": 30,
   "id": "d6ec64e1-2919-4e78-beec-76a983cc53e1",
   "metadata": {},
   "outputs": [
    {
     "name": "stdout",
     "output_type": "stream",
     "text": [
      "              precision    recall  f1-score   support\n",
      "\n",
      "      glioma       0.76      0.69      0.73      1200\n",
      "  meningioma       0.64      0.52      0.57      1224\n",
      "    no_tumor       0.86      0.92      0.89      1620\n",
      "   pituitary       0.79      0.92      0.85      1200\n",
      "\n",
      "    accuracy                           0.78      5244\n",
      "   macro avg       0.76      0.77      0.76      5244\n",
      "weighted avg       0.77      0.78      0.77      5244\n",
      "\n"
     ]
    }
   ],
   "source": [
    "print(classification_report(test_labels, pred_LR))"
   ]
  },
  {
   "cell_type": "code",
   "execution_count": 31,
   "id": "6c9700b6-fed1-45f6-8500-a5439f963f06",
   "metadata": {
    "tags": []
   },
   "outputs": [
    {
     "name": "stdout",
     "output_type": "stream",
     "text": [
      "[[ 833  260   12   95]\n",
      " [ 198  639  215  172]\n",
      " [  28   70 1493   29]\n",
      " [  37   36   19 1108]]\n"
     ]
    },
    {
     "data": {
      "text/plain": [
       "<AxesSubplot:>"
      ]
     },
     "execution_count": 31,
     "metadata": {},
     "output_type": "execute_result"
    },
    {
     "data": {
      "image/png": "[encoded data removed]",
      "text/plain": [
       "<Figure size 432x288 with 2 Axes>"
      ]
     },
     "metadata": {
      "needs_background": "light"
     },
     "output_type": "display_data"
    }
   ],
   "source": [
    "# Confusion Matrix - verify accuracy of each class\n",
    "\n",
    "cm = confusion_matrix(test_labels, pred_LR)\n",
    "print(cm)\n",
    "sns.heatmap(cm, annot=True)"
   ]
  },
  {
   "cell_type": "markdown",
   "id": "f58e614d-f53e-4513-999e-32a1fe2428eb",
   "metadata": {},
   "source": [
    "### K Nearest Neighbors classifier"
   ]
  },
  {
   "cell_type": "code",
   "execution_count": 32,
   "id": "65ef28e8-4d9d-4b25-8ac2-f1586bc5619a",
   "metadata": {
    "tags": []
   },
   "outputs": [
    {
     "name": "stdout",
     "output_type": "stream",
     "text": [
      "KNN_Accuracy =  0.9546147978642258 KNN_Precision =  0.9543988462802567 KNN_Fscore =  0.9542095933815046\n"
     ]
    }
   ],
   "source": [
    "# Prediction from K Nearest Neighbors classifier\n",
    "pred_KNN = Classifier.KNN(train_ft, test_ft, y_train)\n",
    "\n",
    "# Inverse le transform to get original label back.\n",
    "pred_KNN = le.inverse_transform(pred_KNN)\n",
    "\n",
    "# Print accuracy, precision, fscore\n",
    "\n",
    "KNN_Accuracy = accuracy_score(test_labels, pred_KNN)\n",
    "KNN_Precision = precision_score(test_labels, pred_KNN, average='weighted')\n",
    "KNN_Fscore = f1_score(test_labels, pred_KNN, average='weighted')\n",
    "\n",
    "print(\"KNN_Accuracy = \", KNN_Accuracy, \"KNN_Precision = \", KNN_Precision, \"KNN_Fscore = \", KNN_Fscore)"
   ]
  },
  {
   "cell_type": "code",
   "execution_count": 33,
   "id": "acf873b2-890a-42a8-9992-2307e2f05a23",
   "metadata": {},
   "outputs": [
    {
     "name": "stdout",
     "output_type": "stream",
     "text": [
      "              precision    recall  f1-score   support\n",
      "\n",
      "      glioma       0.95      0.92      0.93      1200\n",
      "  meningioma       0.93      0.90      0.91      1224\n",
      "    no_tumor       0.98      0.99      0.99      1620\n",
      "   pituitary       0.95      1.00      0.97      1200\n",
      "\n",
      "    accuracy                           0.95      5244\n",
      "   macro avg       0.95      0.95      0.95      5244\n",
      "weighted avg       0.95      0.95      0.95      5244\n",
      "\n"
     ]
    }
   ],
   "source": [
    "print(classification_report(test_labels, pred_KNN))"
   ]
  },
  {
   "cell_type": "code",
   "execution_count": 34,
   "id": "363fff28-1754-4067-a0e3-835a149354aa",
   "metadata": {
    "tags": []
   },
   "outputs": [
    {
     "name": "stdout",
     "output_type": "stream",
     "text": [
      "[[1104   79    2   15]\n",
      " [  52 1096   25   51]\n",
      " [   6    3 1608    3]\n",
      " [   0    2    0 1198]]\n"
     ]
    },
    {
     "data": {
      "text/plain": [
       "<AxesSubplot:>"
      ]
     },
     "execution_count": 34,
     "metadata": {},
     "output_type": "execute_result"
    },
    {
     "data": {
      "image/png": "[encoded data removed]",
      "text/plain": [
       "<Figure size 432x288 with 2 Axes>"
      ]
     },
     "metadata": {
      "needs_background": "light"
     },
     "output_type": "display_data"
    }
   ],
   "source": [
    "# Confusion Matrix - verify accuracy of each class\n",
    "\n",
    "cm = confusion_matrix(test_labels, pred_KNN)\n",
    "print(cm)\n",
    "sns.heatmap(cm, annot=True)"
   ]
  },
  {
   "cell_type": "code",
   "execution_count": null,
   "id": "a0c2be46-93c9-4bb0-8a73-163440a36ee7",
   "metadata": {},
   "outputs": [],
   "source": [
    "np.save(\"pred_RF\", pred_RF)"
   ]
  },
  {
   "cell_type": "markdown",
   "id": "f0ed5aba-4a49-40be-a3e5-f9b4aead4144",
   "metadata": {},
   "source": [
    "### Decision Tree classifier"
   ]
  },
  {
   "cell_type": "code",
   "execution_count": null,
   "id": "e6125945-2b08-43eb-8ed2-cfc5014600dd",
   "metadata": {
    "tags": []
   },
   "outputs": [],
   "source": [
    "# Prediction from Decision Tree classifier\n",
    "pred_DT = Classifier.DT(train_ft, test_ft, y_train)\n",
    "\n",
    "# Inverse le transform to get original label back.\n",
    "pred_DT = le.inverse_transform(pred_DT)\n",
    "\n",
    "# Print accuracy, precision, fscore\n",
    "\n",
    "DT_Accuracy = accuracy_score(test_labels, pred_DT)\n",
    "DT_Precision = precision_score(test_labels, pred_DT, average='weighted')\n",
    "DT_Fscore = f1_score(test_labels, pred_DT, average='weighted')\n",
    "\n",
    "print(\"DT_Accuracy = \", DT_Accuracy, \"DT_Precision = \", DT_Precision, \"DT_Fscore = \", DT_Fscore)"
   ]
  },
  {
   "cell_type": "code",
   "execution_count": null,
   "id": "63f90a74-40b2-4fd8-80ba-321e67b7cfd7",
   "metadata": {},
   "outputs": [],
   "source": [
    "print(classification_report(test_labels, pred_DT))"
   ]
  },
  {
   "cell_type": "code",
   "execution_count": null,
   "id": "7d42be89-c53b-4778-b79d-d402a2ca8c77",
   "metadata": {
    "tags": []
   },
   "outputs": [],
   "source": [
    "# Confusion Matrix - verify accuracy of each class\n",
    "\n",
    "cm = confusion_matrix(test_labels, pred_DT)\n",
    "print(cm)\n",
    "sns.heatmap(cm, annot=True)"
   ]
  },
  {
   "cell_type": "markdown",
   "id": "289682c8-e777-4989-aedc-7b7bba43cced",
   "metadata": {},
   "source": [
    "### Performance Metrics"
   ]
  },
  {
   "cell_type": "code",
   "execution_count": null,
   "id": "19734a63-8c6f-4b18-ac8b-4d0e7a1c9fa4",
   "metadata": {},
   "outputs": [],
   "source": [
    "from tabulate import tabulate"
   ]
  },
  {
   "cell_type": "code",
   "execution_count": null,
   "id": "644419c3-b643-48a1-8bd4-b5b795703328",
   "metadata": {},
   "outputs": [],
   "source": [
    "# create data\n",
    "data = [\n",
    "    [\"RF\", RF_Accuracy, RF_Precision, RF_Fscore],\n",
    "    [\"NB\", NB_Accuracy, NB_Precision, NB_Fscore],\n",
    "    [\"LR\", LR_Accuracy, LR_Precision, LR_Fscore],\n",
    "    [\"DT\", DT_Accuracy, DT_Precision, DT_Fscore],\n",
    "    [\"KNN\", KNN_Accuracy, KNN_Precision, KNN_Fscore],\n",
    "]\n",
    "\n",
    "# define header names\n",
    "col_names = [\"Classifier\", \"Accuracy\", \"Precision\", \"F1-score\"]\n",
    "\n",
    "# display table\n",
    "print(tabulate(data, headers=col_names, tablefmt=\"rounded_grid\"))"
   ]
  },
  {
   "cell_type": "markdown",
   "id": "4abe4d23-a2a0-4244-9fa9-c6bd4076b41c",
   "metadata": {},
   "source": [
    "### ROC Curve"
   ]
  },
  {
   "cell_type": "code",
   "execution_count": null,
   "id": "0de16446-5d1e-4124-aa42-373ac6de9811",
   "metadata": {},
   "outputs": [],
   "source": [
    "#set up plotting area\n",
    "from sklearn.metrics import roc_auc_score, roc_curve\n",
    "plt.figure(0).clf()\n",
    "\n",
    "#plot ROC curve\n",
    "fpr, tpr, _ = roc_curve(test_labels, pred_RF)\n",
    "auc = round(roc_auc_score(test_labels, pred_RF), 4)\n",
    "plt.plot(fpr,tpr,label=\"RF, AUC=\"+str(auc))\n",
    "\n",
    "fpr, tpr, _ = roc_curve(test_labels, pred_NB)\n",
    "auc = round(roc_auc_score(test_labels, pred_NB), 4)\n",
    "plt.plot(fpr,tpr,label=\"NB, AUC=\"+str(auc))\n",
    "\n",
    "fpr, tpr, _ = roc_curve(test_labels, pred_LR)\n",
    "auc = round(roc_auc_score(test_labels, pred_LR), 4)\n",
    "plt.plot(fpr,tpr,label=\"LR, AUC=\"+str(auc))\n",
    "\n",
    "fpr, tpr, _ = roc_curve(test_labels, pred_KNN)\n",
    "auc = round(roc_auc_score(test_labels, pred_KNN), 4)\n",
    "plt.plot(fpr,tpr,label=\"KNN, AUC=\"+str(auc))\n",
    "\n",
    "fpr, tpr, _ = roc_curve(test_labels, pred_DT)\n",
    "auc = round(roc_auc_score(test_labels, pred_DT), 4)\n",
    "plt.plot(fpr,tpr,label=\"DT, AUC=\"+str(auc))\n",
    "\n",
    "#add legend\n",
    "plt.legend()"
   ]
  },
  {
   "cell_type": "code",
   "execution_count": null,
   "id": "b3245c72-f2a1-47e1-87e2-2090b4001592",
   "metadata": {},
   "outputs": [],
   "source": []
  }
 ],
 "metadata": {
  "kernelspec": {
   "display_name": "Python 3 (ipykernel)",
   "language": "python",
   "name": "python3"
  },
  "language_info": {
   "codemirror_mode": {
    "name": "ipython",
    "version": 3
   },
   "file_extension": ".py",
   "mimetype": "text/x-python",
   "name": "python",
   "nbconvert_exporter": "python",
   "pygments_lexer": "ipython3",
   "version": "3.9.15"
  }
 },
 "nbformat": 4,
 "nbformat_minor": 5
}
