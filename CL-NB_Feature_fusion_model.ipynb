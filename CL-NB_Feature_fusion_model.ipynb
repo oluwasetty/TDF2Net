{
 "cells": [
  {
   "cell_type": "code",
   "execution_count": 2,
   "id": "f459bc37-9609-41fe-b1ea-000bed4fbd58",
   "metadata": {
    "tags": []
   },
   "outputs": [
    {
     "name": "stderr",
     "output_type": "stream",
     "text": [
      "2023-02-02 21:30:29.300746: I tensorflow/core/platform/cpu_feature_guard.cc:193] This TensorFlow binary is optimized with oneAPI Deep Neural Network Library (oneDNN) to use the following CPU instructions in performance-critical operations:  AVX2 FMA\n",
      "To enable them in other operations, rebuild TensorFlow with the appropriate compiler flags.\n"
     ]
    }
   ],
   "source": [
    "import glob\n",
    "import os\n",
    "\n",
    "import cv2\n",
    "import matplotlib.pyplot as plt\n",
    "import numpy as np\n",
    "import seaborn as sns\n",
    "# from pretrained_models.inceptionv3net import InceptionV3Net\n",
    "# from pretrained_models.vgg16net import VGG16Net\n",
    "# from pretrained_models.xceptionnet import XceptionNet\n",
    "# from pretrained_models.resnet50net import ResNet50Net\n",
    "from pypackage.classifier import Classifier\n",
    "# from pypackage.preprocessor import Preprocessor\n",
    "# from pypackage.feature_extractor import FeatureExtractor\n",
    "import tensorflow as tf"
   ]
  },
  {
   "cell_type": "markdown",
   "id": "66e8188a-8b9b-4128-bc13-dd7b6901bce9",
   "metadata": {},
   "source": [
    "### Load Fused Feature"
   ]
  },
  {
   "cell_type": "code",
   "execution_count": 21,
   "id": "c269ff51-5915-4df2-a391-2e12dc41fad3",
   "metadata": {},
   "outputs": [],
   "source": [
    "train_ft = np.load(\"Extracted/fusedtrain.npy\")"
   ]
  },
  {
   "cell_type": "code",
   "execution_count": 22,
   "id": "887101dc-5d13-4950-b9b6-052319e0058f",
   "metadata": {},
   "outputs": [],
   "source": [
    "test_ft = np.load(\"Extracted/fusedtest.npy\")"
   ]
  },
  {
   "cell_type": "markdown",
   "id": "07c9760a-3162-4324-9d9b-8b7a9304fc43",
   "metadata": {},
   "source": [
    "### Load Labels"
   ]
  },
  {
   "cell_type": "code",
   "execution_count": 21,
   "id": "2a35fc7e-3e6f-4bf3-8826-66ca34b44021",
   "metadata": {},
   "outputs": [],
   "source": [
    "y_train = np.load(\"Extracted/train_labels.npy\")"
   ]
  },
  {
   "cell_type": "code",
   "execution_count": 21,
   "id": "e17e346a-ea8f-48a2-b6ec-a2c0bf52cf18",
   "metadata": {},
   "outputs": [],
   "source": [
    "test_labels = np.load(\"Extracted/test_labels.npy\")"
   ]
  },
  {
   "cell_type": "markdown",
   "id": "fc337907-7701-46ea-afa5-8cbefca0acce",
   "metadata": {
    "tags": []
   },
   "source": [
    "### Naive Bayes classifier"
   ]
  },
  {
   "cell_type": "code",
   "execution_count": null,
   "id": "7e99c5de-2792-41f4-920f-6d875a9ee001",
   "metadata": {},
   "outputs": [],
   "source": [
    "from sklearn import preprocessing\n",
    "le = preprocessing.LabelEncoder()\n",
    "le.fit(test_labels)"
   ]
  },
  {
   "cell_type": "code",
   "execution_count": 26,
   "id": "35f36730-6eec-498f-8345-309cf3358ec9",
   "metadata": {
    "tags": []
   },
   "outputs": [
    {
     "name": "stdout",
     "output_type": "stream",
     "text": [
      "NB_Accuracy =  0.6573226544622426 NB_Precision =  0.7056342988095363 NB_Fscore =  0.662301260259239\n"
     ]
    }
   ],
   "source": [
    "# Prediction from Naive Bayes classifier\n",
    "pred_NB = Classifier.NB(train_ft, test_ft, y_train)\n",
    "\n",
    "# Inverse le transform to get original label back.\n",
    "pred_NB = le.inverse_transform(pred_NB)\n",
    "np.save(\"pred_NB\", pred_NB)\n",
    "\n",
    "# Print accuracy, precision, fscore\n",
    "\n",
    "NB_Accuracy = accuracy_score(test_labels, pred_NB)\n",
    "NB_Precision = precision_score(test_labels, pred_NB, average='weighted')\n",
    "NB_Fscore = f1_score(test_labels, pred_NB, average='weighted')\n",
    "\n",
    "print(\"NB_Accuracy = \", NB_Accuracy, \"NB_Precision = \", NB_Precision, \"NB_Fscore = \", NB_Fscore)"
   ]
  },
  {
   "cell_type": "code",
   "execution_count": 27,
   "id": "068d2378-0e94-4a80-83da-da8813426a9b",
   "metadata": {},
   "outputs": [
    {
     "name": "stdout",
     "output_type": "stream",
     "text": [
      "              precision    recall  f1-score   support\n",
      "\n",
      "      glioma       0.49      0.82      0.62      1200\n",
      "  meningioma       0.64      0.48      0.55      1224\n",
      "    no_tumor       0.93      0.65      0.77      1620\n",
      "   pituitary       0.69      0.68      0.68      1200\n",
      "\n",
      "    accuracy                           0.66      5244\n",
      "   macro avg       0.69      0.66      0.65      5244\n",
      "weighted avg       0.71      0.66      0.66      5244\n",
      "\n"
     ]
    }
   ],
   "source": [
    "print(classification_report(test_labels, pred_NB))"
   ]
  },
  {
   "cell_type": "code",
   "execution_count": 28,
   "id": "962bb4cd-ae22-43f8-a0d9-d19dd6a55040",
   "metadata": {
    "tags": []
   },
   "outputs": [
    {
     "name": "stdout",
     "output_type": "stream",
     "text": [
      "[[ 985  103   26   86]\n",
      " [ 466  586   49  123]\n",
      " [ 230  173 1061  156]\n",
      " [ 317   59    9  815]]\n"
     ]
    },
    {
     "data": {
      "text/plain": [
       "<AxesSubplot:>"
      ]
     },
     "execution_count": 28,
     "metadata": {},
     "output_type": "execute_result"
    },
    {
     "data": {
      "image/png": "[encoded data removed]",
      "text/plain": [
       "<Figure size 432x288 with 2 Axes>"
      ]
     },
     "metadata": {
      "needs_background": "light"
     },
     "output_type": "display_data"
    }
   ],
   "source": [
    "# Confusion Matrix - verify accuracy of each class\n",
    "\n",
    "cm = confusion_matrix(test_labels, pred_NB)\n",
    "print(cm)\n",
    "sns.heatmap(cm, annot=True)"
   ]
  }
 ],
 "metadata": {
  "kernelspec": {
   "display_name": "Python 3 (ipykernel)",
   "language": "python",
   "name": "python3"
  },
  "language_info": {
   "codemirror_mode": {
    "name": "ipython",
    "version": 3
   },
   "file_extension": ".py",
   "mimetype": "text/x-python",
   "name": "python",
   "nbconvert_exporter": "python",
   "pygments_lexer": "ipython3",
   "version": "3.9.15"
  }
 },
 "nbformat": 4,
 "nbformat_minor": 5
}
